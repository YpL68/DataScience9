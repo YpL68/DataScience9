{
 "cells": [
  {
   "cell_type": "markdown",
   "id": "781a2108",
   "metadata": {},
   "source": [
    "## Додаткове завдання з зірочкою"
   ]
  },
  {
   "cell_type": "markdown",
   "id": "0328a062",
   "metadata": {},
   "source": [
    "__Для більшого заглиблення в роботу алгоритму, пропонуємо реалізувати алгоритм колабораційної фільтрації з нуля. Для цього ми можемо скористатись нашою домашньою роботою з 3-ого модуля. Якщо ми модифікуємо функцію втрат та розрахунок градієнтів, то зможемо побудувати алгоритм матричної факторизації.__"
   ]
  },
  {
   "cell_type": "markdown",
   "id": "35007585",
   "metadata": {},
   "source": [
    "Щоб виконати це задання візьмемо наш код з третьго модуля та замінемо його на злегка модіфікований код з обов'язкових відеоматеріалів модуля 7."
   ]
  },
  {
   "cell_type": "code",
   "execution_count": 1,
   "id": "a01d8ece",
   "metadata": {},
   "outputs": [],
   "source": [
    "from pathlib import Path\n",
    "import matplotlib.pyplot as plt\n",
    "import numpy as np\n",
    "import pandas as pd\n",
    "from scipy.io import loadmat\n",
    "from sklearn.metrics import mean_squared_error, mean_absolute_error\n",
    "\n",
    "from surprise import accuracy, Dataset, Reader, SVD, SVDpp, NMF\n",
    "from surprise.model_selection import train_test_split, cross_validate, KFold, GridSearchCV\n",
    "\n",
    "%matplotlib inline"
   ]
  },
  {
   "cell_type": "code",
   "execution_count": 2,
   "id": "a0e58758",
   "metadata": {},
   "outputs": [],
   "source": [
    "BASE_FOLDER = Path(Path.cwd(), \"data\")\n",
    "data = loadmat(Path(BASE_FOLDER, \"movies.mat\"))\n",
    "Y, R = data[\"Y\"], data[\"R\"]"
   ]
  },
  {
   "cell_type": "code",
   "execution_count": 3,
   "id": "da6a194e",
   "metadata": {},
   "outputs": [],
   "source": [
    "def loadMovieList():\n",
    "    with open(Path(BASE_FOLDER, \"movie_ids.txt\"),  encoding='ISO-8859-1') as fid:\n",
    "        movies = fid.readlines()\n",
    "    movieNames = []\n",
    "    for movie in movies:\n",
    "        parts = movie.split()\n",
    "        movieNames.append(\" \".join(parts[1:]).strip())\n",
    "    return movieNames"
   ]
  },
  {
   "cell_type": "code",
   "execution_count": 4,
   "id": "2c6c2c0a",
   "metadata": {},
   "outputs": [],
   "source": [
    "names = loadMovieList()"
   ]
  },
  {
   "cell_type": "markdown",
   "id": "437cda39",
   "metadata": {},
   "source": [
    "Функція втрат згідно ДЗ: \n",
    "$$ J(x^{(1)}, \\dots, x^{(n_m)}, w^{(1)}, \\dots, w^{(n_u)}) = \\frac{1}{2} \\sum_{(i,j):r(i,j)=1} \\left( \\left( w^{(j)} \\right)^T x^{(i)} - y^{(i,j)} \\right)^2 + \\left( \\frac{\\lambda}{2} \\sum_{j=1}^{n_u} \\sum_{k=1}^{n} \\left( w_k^{(j)} \\right)^2  \\right) + \\left( \\frac{\\lambda}{2} \\sum_{i=1}^{n_m} \\sum_{k=1}^n \\left(x_k^{(i)} \\right)^2 \\right) $$\n",
    "\n",
    "Градієнти згідно ДЗ:\n",
    "$$ \\frac{\\partial J}{\\partial x_k^{(i)}} = \\sum_{j:r(i,j)=1} \\left( \\left(w^{(j)}\\right)^T x^{(i)} - y^{(i,j)} \\right) w_k^{(j)} + \\lambda x_k^{(i)} $$\n",
    "\n",
    "$$ \\frac{\\partial J}{\\partial w_k^{(j)}} = \\sum_{i:r(i,j)=1} \\left( \\left(w^{(j)}\\right)^T x^{(i)}- y^{(i,j)} \\right) x_k^{(j)} + \\lambda w_k^{(j)} $$\n"
   ]
  },
  {
   "cell_type": "markdown",
   "id": "6717ddec",
   "metadata": {},
   "source": [
    "__Класс з модуля 3 буде мати наступний вигляд:__"
   ]
  },
  {
   "cell_type": "code",
   "execution_count": 5,
   "id": "57a70764",
   "metadata": {},
   "outputs": [],
   "source": [
    "class CollaborativeFiltering:\n",
    "    def __init__(self, lr: float = 0.001, lambda_: float = 1.0, \n",
    "                 thr: float = 0.0001, n_epochs: int = 100, n_factors=10):\n",
    "        self.lr = lr\n",
    "        self.lambda_ = lambda_\n",
    "        self.thr = thr\n",
    "        self.n_epochs = n_epochs\n",
    "        self.n_factors = n_factors\n",
    "        \n",
    "        self.X = np.array([])\n",
    "        self.W = np.array([])\n",
    "        \n",
    "    def cost(self, Y: np.ndarray, R: np.ndarray) -> float:  # функція втрат\n",
    "        J = (np.sum((self.X @ self.W.T * R - Y)**2) + self.lambda_ * (np.sum(self.X**2) + np.sum(self.W**2))) / 2\n",
    "        return J        \n",
    "\n",
    "    def build_predictions(self) -> np.ndarray:\n",
    "        return self.X @ self.W.T\n",
    "\n",
    "    def update_xw(self, Y: np.ndarray, R: np.ndarray):  # крок градієнтного спуску\n",
    "        X_grad = np.zeros_like(self.X)\n",
    "        W_grad = np.zeros_like(self.W)\n",
    "        \n",
    "        for i in range(R.shape[0]):\n",
    "            idx = np.where(R[i, :] == 1)[0]\n",
    "            W_temp = self.W[idx, :]\n",
    "            Y_temp = Y[i, idx]\n",
    "            X_grad[i, :] = (self.X[i, :] @ W_temp.T - Y_temp) @ W_temp + self.lambda_ * self.X[i, :]\n",
    "            \n",
    "        for j in range(R.shape[1]):\n",
    "            idx = np.where(R[:, j] == 1)[0]\n",
    "            X_temp = self.X[idx, :]\n",
    "            Y_temp = Y[idx, j]\n",
    "            W_grad[j, :] = (X_temp @ self.W[j, :] - Y_temp) @ X_temp + self.lambda_ * self.W[j, :]\n",
    "    \n",
    "        self.X -= (X_grad * self.lr)\n",
    "        self.W -= (W_grad * self.lr)\n",
    "        \n",
    "    def fit(self, Y: np.ndarray, R: np.ndarray):\n",
    "        self.X = np.random.randn(Y.shape[0], self.n_factors)\n",
    "        self.W = np.random.randn(Y.shape[1], self.n_factors)\n",
    "        \n",
    "        last_cost = 1e+40\n",
    "        count = 0\n",
    "        for i in range(self.n_epochs):\n",
    "            count += 1\n",
    "            self.update_xw(Y, R)\n",
    "            new_cost = self.cost(Y, R)\n",
    "            cost_delta = last_cost - new_cost\n",
    "            if cost_delta < self.thr:\n",
    "                break\n",
    "            last_cost = new_cost\n",
    "        print(f\"count: {count}, last_cost: {last_cost}\")        "
   ]
  },
  {
   "cell_type": "markdown",
   "id": "73ccd549",
   "metadata": {},
   "source": [
    "### Тренування моделі"
   ]
  },
  {
   "cell_type": "code",
   "execution_count": 6,
   "id": "a94db03a",
   "metadata": {},
   "outputs": [
    {
     "name": "stdout",
     "output_type": "stream",
     "text": [
      "count: 300, last_cost: 108161.60496151375\n"
     ]
    }
   ],
   "source": [
    "cf = CollaborativeFiltering(lr = 0.001, lambda_= 20, n_epochs=300, n_factors=20)\n",
    "cf.fit(Y, R)"
   ]
  },
  {
   "cell_type": "markdown",
   "id": "0a9a6633",
   "metadata": {},
   "source": [
    "__Спробуємо порахувати RMSE та MAE__"
   ]
  },
  {
   "cell_type": "code",
   "execution_count": 7,
   "id": "404bab6c",
   "metadata": {},
   "outputs": [
    {
     "name": "stdout",
     "output_type": "stream",
     "text": [
      "Min rating = 0.07476462797609855\n",
      "Max rating = 5.892192650982537\n",
      "\n",
      "RMSE = 0.908558756859396\n",
      "MAE = 0.7175031454245554\n"
     ]
    }
   ],
   "source": [
    "predictions = cf.build_predictions()\n",
    "\n",
    "y_true = (Y * R).reshape(-1,1)\n",
    "idx = y_true.nonzero()\n",
    "y_true = y_true[idx]\n",
    "y_pred = predictions.reshape(-1, 1)[idx]\n",
    "\n",
    "print(f\"Min rating = {np.min(y_pred)}\")\n",
    "print(f\"Max rating = {np.max(y_pred)}\")\n",
    "\n",
    "print(f\"\\nRMSE = {mean_squared_error(y_true, y_pred, squared=False)}\")\n",
    "print(f\"MAE = {mean_absolute_error(y_true, y_pred)}\")"
   ]
  },
  {
   "cell_type": "markdown",
   "id": "333a6d92",
   "metadata": {},
   "source": [
    "Показники помилок при таких параметрах майже співпадають з такими при використанні SVD в першій частині. При зменшенні lambda_ значення помилок також зменшуються, але min rating стає від'ємним, а max rating > 6, що якось нервує і може свідчити про перенавчання."
   ]
  },
  {
   "cell_type": "markdown",
   "id": "a975f255",
   "metadata": {},
   "source": [
    "__Спробуємо побудувати рекомендації для якогось юзера.__"
   ]
  },
  {
   "cell_type": "code",
   "execution_count": 8,
   "id": "992e3eec",
   "metadata": {},
   "outputs": [
    {
     "data": {
      "text/html": [
       "<div>\n",
       "<style scoped>\n",
       "    .dataframe tbody tr th:only-of-type {\n",
       "        vertical-align: middle;\n",
       "    }\n",
       "\n",
       "    .dataframe tbody tr th {\n",
       "        vertical-align: top;\n",
       "    }\n",
       "\n",
       "    .dataframe thead th {\n",
       "        text-align: right;\n",
       "    }\n",
       "</style>\n",
       "<table border=\"1\" class=\"dataframe\">\n",
       "  <thead>\n",
       "    <tr style=\"text-align: right;\">\n",
       "      <th></th>\n",
       "      <th>0</th>\n",
       "    </tr>\n",
       "  </thead>\n",
       "  <tbody>\n",
       "    <tr>\n",
       "      <th>0</th>\n",
       "      <td>Titanic (1997)</td>\n",
       "    </tr>\n",
       "    <tr>\n",
       "      <th>1</th>\n",
       "      <td>Good Will Hunting (1997)</td>\n",
       "    </tr>\n",
       "    <tr>\n",
       "      <th>2</th>\n",
       "      <td>Star Wars (1977)</td>\n",
       "    </tr>\n",
       "    <tr>\n",
       "      <th>3</th>\n",
       "      <td>Air Force One (1997)</td>\n",
       "    </tr>\n",
       "    <tr>\n",
       "      <th>4</th>\n",
       "      <td>Return of the Jedi (1983)</td>\n",
       "    </tr>\n",
       "    <tr>\n",
       "      <th>5</th>\n",
       "      <td>L.A. Confidential (1997)</td>\n",
       "    </tr>\n",
       "    <tr>\n",
       "      <th>6</th>\n",
       "      <td>Raiders of the Lost Ark (1981)</td>\n",
       "    </tr>\n",
       "    <tr>\n",
       "      <th>7</th>\n",
       "      <td>Schindler's List (1993)</td>\n",
       "    </tr>\n",
       "    <tr>\n",
       "      <th>8</th>\n",
       "      <td>Braveheart (1995)</td>\n",
       "    </tr>\n",
       "    <tr>\n",
       "      <th>9</th>\n",
       "      <td>Rock, The (1996)</td>\n",
       "    </tr>\n",
       "  </tbody>\n",
       "</table>\n",
       "</div>"
      ],
      "text/plain": [
       "                                0\n",
       "0                  Titanic (1997)\n",
       "1        Good Will Hunting (1997)\n",
       "2                Star Wars (1977)\n",
       "3            Air Force One (1997)\n",
       "4       Return of the Jedi (1983)\n",
       "5        L.A. Confidential (1997)\n",
       "6  Raiders of the Lost Ark (1981)\n",
       "7         Schindler's List (1993)\n",
       "8               Braveheart (1995)\n",
       "9                Rock, The (1996)"
      ]
     },
     "metadata": {},
     "output_type": "display_data"
    }
   ],
   "source": [
    "user_id = 100 # np.random.choice(range(R.shape[1]))\n",
    "idx_new = np.where(R[user_id] == 0)[0]  # викинемо фільми, які він прорейтингував \n",
    "user_predict = dict(zip(idx_new, predictions[idx_new, user_id]))\n",
    "user_predict = dict(sorted(user_predict.items(), key=lambda x: x[1], reverse=True))\n",
    "top_10_idx = list(user_predict.keys())[:10]\n",
    "display(pd.DataFrame((np.array(names)[top_10_idx])))"
   ]
  },
  {
   "cell_type": "markdown",
   "id": "820dd2ae",
   "metadata": {},
   "source": [
    "__Спробуємо порівняти з SVD__"
   ]
  },
  {
   "cell_type": "code",
   "execution_count": 9,
   "id": "2bf8f739",
   "metadata": {},
   "outputs": [],
   "source": [
    "data_svd = Dataset.load_from_file(Path(BASE_FOLDER, \"u.data\"), Reader(line_format=\"user item rating timestamp\"))\n",
    "data_train = data_svd.build_full_trainset()\n",
    "algo = SVD(n_factors=150, n_epochs=80, lr_all=0.005, reg_all=0.1)\n",
    "algo.fit(data_train);"
   ]
  },
  {
   "cell_type": "code",
   "execution_count": 10,
   "id": "f7b2dbc7",
   "metadata": {},
   "outputs": [],
   "source": [
    "data_test = data_train.build_anti_testset()\n",
    "predictions_svd = algo.test(data_test)"
   ]
  },
  {
   "cell_type": "code",
   "execution_count": 11,
   "id": "2f34d2d0",
   "metadata": {},
   "outputs": [
    {
     "data": {
      "text/html": [
       "<div>\n",
       "<style scoped>\n",
       "    .dataframe tbody tr th:only-of-type {\n",
       "        vertical-align: middle;\n",
       "    }\n",
       "\n",
       "    .dataframe tbody tr th {\n",
       "        vertical-align: top;\n",
       "    }\n",
       "\n",
       "    .dataframe thead th {\n",
       "        text-align: right;\n",
       "    }\n",
       "</style>\n",
       "<table border=\"1\" class=\"dataframe\">\n",
       "  <thead>\n",
       "    <tr style=\"text-align: right;\">\n",
       "      <th></th>\n",
       "      <th>0</th>\n",
       "    </tr>\n",
       "  </thead>\n",
       "  <tbody>\n",
       "    <tr>\n",
       "      <th>0</th>\n",
       "      <td>Golden Earrings (1947)</td>\n",
       "    </tr>\n",
       "    <tr>\n",
       "      <th>1</th>\n",
       "      <td>Everyone Says I Love You (1996)</td>\n",
       "    </tr>\n",
       "    <tr>\n",
       "      <th>2</th>\n",
       "      <td>Haunted World of Edward D. Wood Jr., The (1995)</td>\n",
       "    </tr>\n",
       "    <tr>\n",
       "      <th>3</th>\n",
       "      <td>What's Eating Gilbert Grape (1993)</td>\n",
       "    </tr>\n",
       "    <tr>\n",
       "      <th>4</th>\n",
       "      <td>Cinema Paradiso (1988)</td>\n",
       "    </tr>\n",
       "    <tr>\n",
       "      <th>5</th>\n",
       "      <td>Jack (1996)</td>\n",
       "    </tr>\n",
       "    <tr>\n",
       "      <th>6</th>\n",
       "      <td>Taxi Driver (1976)</td>\n",
       "    </tr>\n",
       "    <tr>\n",
       "      <th>7</th>\n",
       "      <td>So I Married an Axe Murderer (1993)</td>\n",
       "    </tr>\n",
       "    <tr>\n",
       "      <th>8</th>\n",
       "      <td>Spanking the Monkey (1994)</td>\n",
       "    </tr>\n",
       "    <tr>\n",
       "      <th>9</th>\n",
       "      <td>Maltese Falcon, The (1941)</td>\n",
       "    </tr>\n",
       "  </tbody>\n",
       "</table>\n",
       "</div>"
      ],
      "text/plain": [
       "                                                 0\n",
       "0                           Golden Earrings (1947)\n",
       "1                  Everyone Says I Love You (1996)\n",
       "2  Haunted World of Edward D. Wood Jr., The (1995)\n",
       "3               What's Eating Gilbert Grape (1993)\n",
       "4                           Cinema Paradiso (1988)\n",
       "5                                      Jack (1996)\n",
       "6                               Taxi Driver (1976)\n",
       "7              So I Married an Axe Murderer (1993)\n",
       "8                       Spanking the Monkey (1994)\n",
       "9                       Maltese Falcon, The (1941)"
      ]
     },
     "metadata": {},
     "output_type": "display_data"
    }
   ],
   "source": [
    "dict_tmp = {int(predic.iid): predic.est for predic in predictions_svd if predic.uid == \"100\"}\n",
    "dict_tmp = dict(sorted(dict_tmp.items(), key=lambda x: x[1], reverse=True))\n",
    "top_10 = list(dict_tmp.keys())[:10]\n",
    "display(pd.DataFrame((np.array(names)[top_10]))) "
   ]
  },
  {
   "cell_type": "markdown",
   "id": "05c225a1",
   "metadata": {},
   "source": [
    "Дуже сумно. Рекомендації навіть приблизно не співпадають. Спишемо це вже на різний смак алгоритмів (чи все-таки на низький рівень знань виконавця?). "
   ]
  },
  {
   "cell_type": "markdown",
   "id": "bc315c3e",
   "metadata": {},
   "source": [
    "__Напевно розумні люди перед порівнянням алгоритмів спочатку порівнюють вихідні данні.__"
   ]
  },
  {
   "cell_type": "markdown",
   "id": "bce59d02",
   "metadata": {},
   "source": [
    "Данні для юзера з id = 100, SVD"
   ]
  },
  {
   "cell_type": "code",
   "execution_count": 12,
   "id": "a574e1e8",
   "metadata": {},
   "outputs": [
    {
     "data": {
      "text/html": [
       "<div>\n",
       "<style scoped>\n",
       "    .dataframe tbody tr th:only-of-type {\n",
       "        vertical-align: middle;\n",
       "    }\n",
       "\n",
       "    .dataframe tbody tr th {\n",
       "        vertical-align: top;\n",
       "    }\n",
       "\n",
       "    .dataframe thead th {\n",
       "        text-align: right;\n",
       "    }\n",
       "</style>\n",
       "<table border=\"1\" class=\"dataframe\">\n",
       "  <thead>\n",
       "    <tr style=\"text-align: right;\">\n",
       "      <th></th>\n",
       "      <th>mov_id</th>\n",
       "      <th>rating</th>\n",
       "    </tr>\n",
       "  </thead>\n",
       "  <tbody>\n",
       "    <tr>\n",
       "      <th>0</th>\n",
       "      <td>258</td>\n",
       "      <td>4</td>\n",
       "    </tr>\n",
       "    <tr>\n",
       "      <th>1</th>\n",
       "      <td>266</td>\n",
       "      <td>2</td>\n",
       "    </tr>\n",
       "    <tr>\n",
       "      <th>2</th>\n",
       "      <td>268</td>\n",
       "      <td>3</td>\n",
       "    </tr>\n",
       "    <tr>\n",
       "      <th>3</th>\n",
       "      <td>269</td>\n",
       "      <td>4</td>\n",
       "    </tr>\n",
       "    <tr>\n",
       "      <th>4</th>\n",
       "      <td>270</td>\n",
       "      <td>3</td>\n",
       "    </tr>\n",
       "  </tbody>\n",
       "</table>\n",
       "</div>"
      ],
      "text/plain": [
       "   mov_id  rating\n",
       "0     258       4\n",
       "1     266       2\n",
       "2     268       3\n",
       "3     269       4\n",
       "4     270       3"
      ]
     },
     "metadata": {},
     "output_type": "display_data"
    },
    {
     "data": {
      "text/plain": [
       "(59, 2)"
      ]
     },
     "execution_count": 12,
     "metadata": {},
     "output_type": "execute_result"
    }
   ],
   "source": [
    "raw_ratings = (np.array(data_svd.raw_ratings)[:, :3])\n",
    "raw_ratings = raw_ratings.astype(float).astype(int)\n",
    "raw_ratings = raw_ratings[(raw_ratings[:, 0] == 100)]\n",
    "raw_ratings = raw_ratings[raw_ratings[:, 1].argsort()]\n",
    "df = pd.DataFrame({\"mov_id\": raw_ratings[:, 1], \"rating\": raw_ratings[:, 2]})\n",
    "display(df.head())\n",
    "df.shape"
   ]
  },
  {
   "cell_type": "markdown",
   "id": "8f205ecc",
   "metadata": {},
   "source": [
    "Данні для юзера з id = 100, MF"
   ]
  },
  {
   "cell_type": "code",
   "execution_count": 13,
   "id": "f67b92fe",
   "metadata": {},
   "outputs": [
    {
     "data": {
      "text/html": [
       "<div>\n",
       "<style scoped>\n",
       "    .dataframe tbody tr th:only-of-type {\n",
       "        vertical-align: middle;\n",
       "    }\n",
       "\n",
       "    .dataframe tbody tr th {\n",
       "        vertical-align: top;\n",
       "    }\n",
       "\n",
       "    .dataframe thead th {\n",
       "        text-align: right;\n",
       "    }\n",
       "</style>\n",
       "<table border=\"1\" class=\"dataframe\">\n",
       "  <thead>\n",
       "    <tr style=\"text-align: right;\">\n",
       "      <th></th>\n",
       "      <th>mov_id</th>\n",
       "      <th>rating</th>\n",
       "    </tr>\n",
       "  </thead>\n",
       "  <tbody>\n",
       "    <tr>\n",
       "      <th>0</th>\n",
       "      <td>0</td>\n",
       "      <td>3</td>\n",
       "    </tr>\n",
       "    <tr>\n",
       "      <th>1</th>\n",
       "      <td>6</td>\n",
       "      <td>3</td>\n",
       "    </tr>\n",
       "    <tr>\n",
       "      <th>2</th>\n",
       "      <td>23</td>\n",
       "      <td>4</td>\n",
       "    </tr>\n",
       "    <tr>\n",
       "      <th>3</th>\n",
       "      <td>49</td>\n",
       "      <td>4</td>\n",
       "    </tr>\n",
       "    <tr>\n",
       "      <th>4</th>\n",
       "      <td>108</td>\n",
       "      <td>2</td>\n",
       "    </tr>\n",
       "  </tbody>\n",
       "</table>\n",
       "</div>"
      ],
      "text/plain": [
       "   mov_id  rating\n",
       "0       0       3\n",
       "1       6       3\n",
       "2      23       4\n",
       "3      49       4\n",
       "4     108       2"
      ]
     },
     "metadata": {},
     "output_type": "display_data"
    },
    {
     "data": {
      "text/plain": [
       "(67, 2)"
      ]
     },
     "execution_count": 13,
     "metadata": {},
     "output_type": "execute_result"
    }
   ],
   "source": [
    "raw_user_100 =  Y[:, 100]\n",
    "idx = raw_user_100.nonzero()[0]\n",
    "raw_user_100 = raw_user_100[idx]\n",
    "df = pd.DataFrame({\"mov_id\": idx, \"rating\": raw_user_100})\n",
    "display(df.head())\n",
    "df.shape"
   ]
  },
  {
   "cell_type": "markdown",
   "id": "f8c71ed6",
   "metadata": {},
   "source": [
    "__Якщо я нічого не наплутав - данні не співпадають. Для порівняння алгоритмів потрібно їх унікуфувати. Але це вже наступного разу.__"
   ]
  },
  {
   "cell_type": "markdown",
   "id": "1afcc364",
   "metadata": {},
   "source": [
    "### Висновок: начебто працює."
   ]
  },
  {
   "cell_type": "code",
   "execution_count": null,
   "id": "64a560f2",
   "metadata": {},
   "outputs": [],
   "source": []
  }
 ],
 "metadata": {
  "kernelspec": {
   "display_name": "Python 3 (ipykernel)",
   "language": "python",
   "name": "python3"
  },
  "language_info": {
   "codemirror_mode": {
    "name": "ipython",
    "version": 3
   },
   "file_extension": ".py",
   "mimetype": "text/x-python",
   "name": "python",
   "nbconvert_exporter": "python",
   "pygments_lexer": "ipython3",
   "version": "3.11.3"
  }
 },
 "nbformat": 4,
 "nbformat_minor": 5
}

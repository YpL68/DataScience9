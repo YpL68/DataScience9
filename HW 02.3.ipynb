{
 "cells": [
  {
   "cell_type": "markdown",
   "id": "8ec2b0f2",
   "metadata": {},
   "source": [
    "## Частина третя: Аналіз датасет c Kaggle.com"
   ]
  },
  {
   "cell_type": "code",
   "execution_count": 1,
   "id": "88c9652d",
   "metadata": {},
   "outputs": [],
   "source": [
    "import matplotlib.pyplot as plt\n",
    "%matplotlib inline\n",
    "\n",
    "import numpy as np\n",
    "import pandas as pd\n",
    "import seaborn as sns"
   ]
  },
  {
   "cell_type": "markdown",
   "id": "8fb7b17d",
   "metadata": {},
   "source": [
    "* Прочитайте csv файл (використовуйте функцію read_csv)\n",
    "* Виведіть перші п'ять рядків (використовується функція head)"
   ]
  },
  {
   "cell_type": "code",
   "execution_count": 2,
   "id": "404b2629",
   "metadata": {},
   "outputs": [
    {
     "data": {
      "text/html": [
       "<div>\n",
       "<style scoped>\n",
       "    .dataframe tbody tr th:only-of-type {\n",
       "        vertical-align: middle;\n",
       "    }\n",
       "\n",
       "    .dataframe tbody tr th {\n",
       "        vertical-align: top;\n",
       "    }\n",
       "\n",
       "    .dataframe thead th {\n",
       "        text-align: right;\n",
       "    }\n",
       "</style>\n",
       "<table border=\"1\" class=\"dataframe\">\n",
       "  <thead>\n",
       "    <tr style=\"text-align: right;\">\n",
       "      <th></th>\n",
       "      <th>Name</th>\n",
       "      <th>Author</th>\n",
       "      <th>User Rating</th>\n",
       "      <th>Reviews</th>\n",
       "      <th>Price</th>\n",
       "      <th>Year</th>\n",
       "      <th>Genre</th>\n",
       "    </tr>\n",
       "  </thead>\n",
       "  <tbody>\n",
       "    <tr>\n",
       "      <th>0</th>\n",
       "      <td>10-Day Green Smoothie Cleanse</td>\n",
       "      <td>JJ Smith</td>\n",
       "      <td>4.7</td>\n",
       "      <td>17350</td>\n",
       "      <td>8</td>\n",
       "      <td>2016</td>\n",
       "      <td>Non Fiction</td>\n",
       "    </tr>\n",
       "    <tr>\n",
       "      <th>1</th>\n",
       "      <td>11/22/63: A Novel</td>\n",
       "      <td>Stephen King</td>\n",
       "      <td>4.6</td>\n",
       "      <td>2052</td>\n",
       "      <td>22</td>\n",
       "      <td>2011</td>\n",
       "      <td>Fiction</td>\n",
       "    </tr>\n",
       "    <tr>\n",
       "      <th>2</th>\n",
       "      <td>12 Rules for Life: An Antidote to Chaos</td>\n",
       "      <td>Jordan B. Peterson</td>\n",
       "      <td>4.7</td>\n",
       "      <td>18979</td>\n",
       "      <td>15</td>\n",
       "      <td>2018</td>\n",
       "      <td>Non Fiction</td>\n",
       "    </tr>\n",
       "    <tr>\n",
       "      <th>3</th>\n",
       "      <td>1984 (Signet Classics)</td>\n",
       "      <td>George Orwell</td>\n",
       "      <td>4.7</td>\n",
       "      <td>21424</td>\n",
       "      <td>6</td>\n",
       "      <td>2017</td>\n",
       "      <td>Fiction</td>\n",
       "    </tr>\n",
       "    <tr>\n",
       "      <th>4</th>\n",
       "      <td>5,000 Awesome Facts (About Everything!) (Natio...</td>\n",
       "      <td>National Geographic Kids</td>\n",
       "      <td>4.8</td>\n",
       "      <td>7665</td>\n",
       "      <td>12</td>\n",
       "      <td>2019</td>\n",
       "      <td>Non Fiction</td>\n",
       "    </tr>\n",
       "  </tbody>\n",
       "</table>\n",
       "</div>"
      ],
      "text/plain": [
       "                                                Name  \\\n",
       "0                      10-Day Green Smoothie Cleanse   \n",
       "1                                  11/22/63: A Novel   \n",
       "2            12 Rules for Life: An Antidote to Chaos   \n",
       "3                             1984 (Signet Classics)   \n",
       "4  5,000 Awesome Facts (About Everything!) (Natio...   \n",
       "\n",
       "                     Author  User Rating  Reviews  Price  Year        Genre  \n",
       "0                  JJ Smith          4.7    17350      8  2016  Non Fiction  \n",
       "1              Stephen King          4.6     2052     22  2011      Fiction  \n",
       "2        Jordan B. Peterson          4.7    18979     15  2018  Non Fiction  \n",
       "3             George Orwell          4.7    21424      6  2017      Fiction  \n",
       "4  National Geographic Kids          4.8     7665     12  2019  Non Fiction  "
      ]
     },
     "execution_count": 2,
     "metadata": {},
     "output_type": "execute_result"
    }
   ],
   "source": [
    "file_data = pd.read_csv(\"bestsellers with categories.csv\")\n",
    "file_data.head()"
   ]
  },
  {
   "cell_type": "markdown",
   "id": "0ba98fc2",
   "metadata": {},
   "source": [
    "* Виведіть розміри датасету (використовуйте атрибут shape)"
   ]
  },
  {
   "cell_type": "code",
   "execution_count": 3,
   "id": "f75c35d8",
   "metadata": {},
   "outputs": [
    {
     "name": "stdout",
     "output_type": "stream",
     "text": [
      "Result: 550 rows x 7 columns\n",
      "\n",
      "Про скільки книг зберігає дані датасет? Відповідь: 550\n"
     ]
    }
   ],
   "source": [
    "print(f\"Result: {file_data.shape[0]} rows x {file_data.shape[1]} columns\")\n",
    "print(f\"\\nПро скільки книг зберігає дані датасет? Відповідь: {file_data.shape[0]}\")"
   ]
  },
  {
   "cell_type": "code",
   "execution_count": 4,
   "id": "4e0f0b25",
   "metadata": {},
   "outputs": [
    {
     "data": {
      "text/html": [
       "<div>\n",
       "<style scoped>\n",
       "    .dataframe tbody tr th:only-of-type {\n",
       "        vertical-align: middle;\n",
       "    }\n",
       "\n",
       "    .dataframe tbody tr th {\n",
       "        vertical-align: top;\n",
       "    }\n",
       "\n",
       "    .dataframe thead th {\n",
       "        text-align: right;\n",
       "    }\n",
       "</style>\n",
       "<table border=\"1\" class=\"dataframe\">\n",
       "  <thead>\n",
       "    <tr style=\"text-align: right;\">\n",
       "      <th></th>\n",
       "      <th>name</th>\n",
       "      <th>author</th>\n",
       "      <th>user_rating</th>\n",
       "      <th>reviews</th>\n",
       "      <th>price</th>\n",
       "      <th>year</th>\n",
       "      <th>genre</th>\n",
       "    </tr>\n",
       "  </thead>\n",
       "  <tbody>\n",
       "    <tr>\n",
       "      <th>0</th>\n",
       "      <td>10-Day Green Smoothie Cleanse</td>\n",
       "      <td>JJ Smith</td>\n",
       "      <td>4.7</td>\n",
       "      <td>17350</td>\n",
       "      <td>8</td>\n",
       "      <td>2016</td>\n",
       "      <td>Non Fiction</td>\n",
       "    </tr>\n",
       "  </tbody>\n",
       "</table>\n",
       "</div>"
      ],
      "text/plain": [
       "                            name    author  user_rating  reviews  price  year  \\\n",
       "0  10-Day Green Smoothie Cleanse  JJ Smith          4.7    17350      8  2016   \n",
       "\n",
       "         genre  \n",
       "0  Non Fiction  "
      ]
     },
     "execution_count": 4,
     "metadata": {},
     "output_type": "execute_result"
    }
   ],
   "source": [
    "file_data.columns = ['name', 'author', 'user_rating', 'reviews', 'price', 'year', 'genre']\n",
    "file_data.head(1)"
   ]
  },
  {
   "cell_type": "markdown",
   "id": "f101cd82",
   "metadata": {},
   "source": [
    "### Первинне дослідження даних"
   ]
  },
  {
   "cell_type": "markdown",
   "id": "1a42da87",
   "metadata": {},
   "source": [
    "* Перевірте, чи у всіх рядків вистачає даних: виведіть кількість пропусків (na) у кожному зі стовпців (використовуйте функції isna та sum)"
   ]
  },
  {
   "cell_type": "code",
   "execution_count": 5,
   "id": "4b25dc37",
   "metadata": {},
   "outputs": [
    {
     "name": "stdout",
     "output_type": "stream",
     "text": [
      "name           0\n",
      "author         0\n",
      "user_rating    0\n",
      "reviews        0\n",
      "price          0\n",
      "year           0\n",
      "genre          0\n",
      "dtype: int64\n",
      "\n",
      "Чи є в якихось змінних пропуски? Відповідь: Ні\n"
     ]
    }
   ],
   "source": [
    "print(file_data.isnull().sum(axis=0))\n",
    "print(f\"\\nЧи є в якихось змінних пропуски? Відповідь: {'Так' if file_data.isnull().sum().sum() else 'Ні'}\")"
   ]
  },
  {
   "cell_type": "markdown",
   "id": "00e065a4",
   "metadata": {},
   "source": [
    "* Перевірте, які є унікальні значення в колонці genre (використовуйте функцію unique)"
   ]
  },
  {
   "cell_type": "code",
   "execution_count": 6,
   "id": "efe7aa4b",
   "metadata": {},
   "outputs": [
    {
     "name": "stdout",
     "output_type": "stream",
     "text": [
      "Які є унікальні жанри? Відповідь: Fiction, Non Fiction\n"
     ]
    }
   ],
   "source": [
    "uniq_ganres = list(np.sort(file_data[\"genre\"].unique()))\n",
    "print(f\"Які є унікальні жанри? Відповідь: {', '.join(uniq_ganres) if uniq_ganres else 'немає ніяких'}\")"
   ]
  },
  {
   "cell_type": "markdown",
   "id": "9906d117",
   "metadata": {},
   "source": [
    "* Тепер подивіться на розподіл цін: побудуйте діаграму (використовуйте kind='hist')"
   ]
  },
  {
   "cell_type": "code",
   "execution_count": 7,
   "id": "928ba714",
   "metadata": {},
   "outputs": [
    {
     "data": {
      "text/plain": [
       "<Axes: xlabel='Price', ylabel='Frequency'>"
      ]
     },
     "execution_count": 7,
     "metadata": {},
     "output_type": "execute_result"
    },
    {
     "data": {
      "image/png": "[encoded data removed]",
      "text/plain": [
       "<Figure size 640x480 with 1 Axes>"
      ]
     },
     "metadata": {},
     "output_type": "display_data"
    }
   ],
   "source": [
    "file_data[\"price\"].plot(kind=\"hist\", bins=100, xlabel=\"Price\", ylabel=\"Frequency\", color=\"orange\")"
   ]
  },
  {
   "cell_type": "markdown",
   "id": "ec2f78a2",
   "metadata": {},
   "source": [
    "* Визначте, яка ціна у нас максимальна, мінімальна, середня, медіанна (використовуйте функції max, min, mean, median)"
   ]
  },
  {
   "cell_type": "code",
   "execution_count": 8,
   "id": "a2510beb",
   "metadata": {},
   "outputs": [
    {
     "name": "stdout",
     "output_type": "stream",
     "text": [
      "Максимальна ціна? Відповідь: 105\n",
      "\n",
      "Мінімальна ціна? Відповідь: 0\n",
      "\n",
      "Середня ціна? Відповідь: 13.1\n",
      "\n",
      "Медіанна ціна? Відповідь: 11.0\n"
     ]
    }
   ],
   "source": [
    "print(f\"Максимальна ціна? Відповідь: {file_data['price'].max()}\")\n",
    "print(f\"\\nМінімальна ціна? Відповідь: {file_data['price'].min()}\")\n",
    "print(f\"\\nСередня ціна? Відповідь: {file_data['price'].mean()}\")\n",
    "print(f\"\\nМедіанна ціна? Відповідь: {file_data['price'].median()}\")"
   ]
  },
  {
   "cell_type": "markdown",
   "id": "2532aa28",
   "metadata": {},
   "source": [
    "### Пошук та сортування даних"
   ]
  },
  {
   "cell_type": "code",
   "execution_count": 9,
   "id": "ee10f66e",
   "metadata": {},
   "outputs": [
    {
     "name": "stdout",
     "output_type": "stream",
     "text": [
      "Який рейтинг у датасеті найвищий? Відповідь: 4.9\n",
      "\n",
      "Скільки книг мають такий рейтинг? Відповідь: 52\n",
      "\n",
      "Яка книга має найбільше відгуків? Відповідь: \"Where the Crawdads Sing\" by Delia Owens\n",
      "\n",
      "З тих книг, що потрапили до Топ-50 у 2015 році, яка книга найдорожча? Відповідь: \"Publication Manual of the American Psychological Association, 6th Edition\" by American Psychological Association\n",
      "\n",
      "Скільки книг жанру Fiction потрапили до Топ-50 у 2010 році? Відповідь: 20\n",
      "\n",
      "Скільки книг з рейтингом 4.9 потрапило до рейтингу у 2010 та 2011 роках? Відповідь: 1\n",
      "\n",
      "Яка книга остання у відсортованому списку? Відповідь: \"Old School (Diary of a Wimpy Kid #10)\" by Jeff Kinney\n"
     ]
    }
   ],
   "source": [
    "max_rating = file_data[\"user_rating\"].max()\n",
    "print(f\"Який рейтинг у датасеті найвищий? Відповідь: {max_rating}\")\n",
    "\n",
    "mr_books_qty = len(file_data.query(f\"user_rating == {max_rating}\"))\n",
    "print(f\"\\nСкільки книг мають такий рейтинг? Відповідь: {mr_books_qty}\")\n",
    "\n",
    "top_book = file_data.iloc[file_data[\"reviews\"].idxmax()]\n",
    "print(f\"\\nЯка книга має найбільше відгуків? Відповідь: \\\"{top_book['name']}\\\" by {top_book['author']}\")\n",
    "\n",
    "try:  # приклад обробки помилок \n",
    "    qst_str = \"\\nЗ тих книг, що потрапили до Топ-50 у 2015 році, яка книга найдорожча? Відповідь:\"\n",
    "    exp_2015 = file_data.iloc[file_data.query(\"year == 2015\")[\"price\"].idxmax()]\n",
    "except IndexError:\n",
    "    print(f\"{qst_str} в Топ-50 немає книг 2015 року.\")\n",
    "else:\n",
    "    print(f\"{qst_str} \\\"{exp_2015['name']}\\\" by {exp_2015['author']}\")\n",
    "    \n",
    "qty_fiction_2010 = len(file_data.query(f\"year == 2010 & genre == 'Fiction'\"))     \n",
    "print(f\"\\nСкільки книг жанру Fiction потрапили до Топ-50 у 2010 році? Відповідь: {qty_fiction_2010}\")\n",
    "\n",
    "qty_books = len(file_data.query(f\"user_rating == 4.9 & (year == 2010 | year == 2011)\"))\n",
    "print(f\"\\nСкільки книг з рейтингом 4.9 потрапило до рейтингу у 2010 та 2011 роках? Відповідь: {qty_books}\")\n",
    "\n",
    "# вибачте - навмисно не став сортувати ascending=True як сказано в ТЗ\n",
    "books_2015 = file_data.query(\"year == 2015 & price < 8\").sort_values(by=[\"price\"], ascending=False).iloc[0]\n",
    "print(f\"\\nЯка книга остання у відсортованому списку? Відповідь: \\\"{books_2015['name']}\\\" by {books_2015['author']}\")\n"
   ]
  },
  {
   "cell_type": "markdown",
   "id": "af4edb89",
   "metadata": {},
   "source": [
    "### Агрегування даних та з'єднання таблиць"
   ]
  },
  {
   "cell_type": "markdown",
   "id": "b87fe66f",
   "metadata": {},
   "source": [
    "* Для початку давайте подивимося на максимальну та мінімальну ціни для кожного з жанрів "
   ]
  },
  {
   "cell_type": "code",
   "execution_count": 10,
   "id": "81c8831c",
   "metadata": {},
   "outputs": [
    {
     "name": "stdout",
     "output_type": "stream",
     "text": [
      "Максимальна ціна для жанру Fiction: Відповідь: 82\n",
      "\n",
      "Мінімальна ціна для жанру Fiction: Відповідь: 0\n",
      "\n",
      "Максимальна ціна для жанру Non Fiction: Відповідь: 105\n",
      "\n",
      "Мінімальна ціна для жанру Non Fiction: Відповідь: 0\n"
     ]
    }
   ],
   "source": [
    "df_tmp = file_data.groupby(\"genre\").agg({\"price\": [\"min\", \"max\"]})\n",
    "df_tmp.columns = [\"price_min\", \"price_max\"]\n",
    "\n",
    "print(f\"Максимальна ціна для жанру Fiction: Відповідь: {df_tmp.loc['Fiction']['price_max']}\")\n",
    "print(f\"\\nМінімальна ціна для жанру Fiction: Відповідь: {df_tmp.loc['Fiction']['price_min']}\")\n",
    "print(f\"\\nМаксимальна ціна для жанру Non Fiction: Відповідь: {df_tmp.loc['Non Fiction']['price_max']}\")\n",
    "print(f\"\\nМінімальна ціна для жанру Non Fiction: Відповідь: {df_tmp.loc['Non Fiction']['price_min']}\")"
   ]
  },
  {
   "cell_type": "markdown",
   "id": "cae0cd06",
   "metadata": {},
   "source": [
    "* Тепер створіть новий датафрейм, який вміщатиме кількість книг для кожного з авторів (use Series)"
   ]
  },
  {
   "cell_type": "code",
   "execution_count": 11,
   "id": "f2fc83c8",
   "metadata": {},
   "outputs": [
    {
     "name": "stdout",
     "output_type": "stream",
     "text": [
      "Якої розмірності вийшла таблиця? Відповідь: (248,)\n",
      "\n",
      "Який автор має найбільше книг? Відповідь: Jeff Kinney\n",
      "\n",
      "Скільки книг цього автора? Відповідь: 12\n"
     ]
    }
   ],
   "source": [
    "serie_tmp = file_data.groupby(\"author\")[\"author\"].agg(\"count\")\n",
    "print(f\"Якої розмірності вийшла таблиця? Відповідь: {serie_tmp.shape}\")\n",
    "print(f\"\\nЯкий автор має найбільше книг? Відповідь: {serie_tmp.idxmax()}\")\n",
    "print(f\"\\nСкільки книг цього автора? Відповідь: {serie_tmp[serie_tmp.idxmax()]}\")"
   ]
  },
  {
   "cell_type": "markdown",
   "id": "d2485527",
   "metadata": {},
   "source": [
    "* Тепер створіть новий датафрейм, який вміщатиме кількість книг для кожного з авторів (use DataFrame)"
   ]
  },
  {
   "cell_type": "code",
   "execution_count": 12,
   "id": "9789816e",
   "metadata": {},
   "outputs": [
    {
     "name": "stdout",
     "output_type": "stream",
     "text": [
      "Якої розмірності вийшла таблиця? Відповідь: (248, 1)\n",
      "\n",
      "Який автор має найбільше книг? Відповідь: Jeff Kinney\n",
      "\n",
      "Скільки книг цього автора? Відповідь: 12\n"
     ]
    }
   ],
   "source": [
    "df_tmp = file_data.groupby(\"author\").agg({\"author\": [\"count\"]})\n",
    "df_tmp.columns = [\"books_count\"]\n",
    "author = df_tmp[\"books_count\"].idxmax()\n",
    "books_count = df_tmp.loc[author][\"books_count\"] \n",
    "print(f\"Якої розмірності вийшла таблиця? Відповідь: {df_tmp.shape}\")\n",
    "print(f\"\\nЯкий автор має найбільше книг? Відповідь: {author}\")\n",
    "print(f\"\\nСкільки книг цього автора? Відповідь: {books_count}\")"
   ]
  },
  {
   "cell_type": "markdown",
   "id": "cd2a1559",
   "metadata": {},
   "source": [
    "* Тепер створіть другий датафрейм, який буде вміщати середній рейтинг для кожного автора"
   ]
  },
  {
   "cell_type": "code",
   "execution_count": 13,
   "id": "3f71ebe7",
   "metadata": {},
   "outputs": [
    {
     "name": "stdout",
     "output_type": "stream",
     "text": [
      "У якого автора середній рейтинг мінімальний? Відповідь: Donna Tartt\n",
      "\n",
      "Який у цього автора середній рейтинг? Відповідь: 3.9\n"
     ]
    }
   ],
   "source": [
    "df_tmp1 = file_data.groupby(\"author\").agg({\"user_rating\": [\"mean\"]})\n",
    "df_tmp1.columns = [\"mean_rating\"]\n",
    "author = df_tmp1[\"mean_rating\"].idxmin()\n",
    "mean_rating = df_tmp1.loc[author][\"mean_rating\"] \n",
    "print(f\"У якого автора середній рейтинг мінімальний? Відповідь: {author}\")\n",
    "print(f\"\\nЯкий у цього автора середній рейтинг? Відповідь: {mean_rating}\")\n"
   ]
  },
  {
   "cell_type": "markdown",
   "id": "3593c1a8",
   "metadata": {},
   "source": [
    "* З'єднайте останні два датафрейми так, щоб для кожного автора було видно кількість книг та середній рейтинг (Використовуйте функцію concat з параметром axis=1). Збережіть результат у змінну\n",
    "\n",
    "* Відсортуйте датафрейм за зростаючою кількістю книг та зростаючим рейтингом (використовуйте функцію sort_values)"
   ]
  },
  {
   "cell_type": "code",
   "execution_count": 14,
   "id": "19a565dc",
   "metadata": {},
   "outputs": [
    {
     "data": {
      "text/html": [
       "<div>\n",
       "<style scoped>\n",
       "    .dataframe tbody tr th:only-of-type {\n",
       "        vertical-align: middle;\n",
       "    }\n",
       "\n",
       "    .dataframe tbody tr th {\n",
       "        vertical-align: top;\n",
       "    }\n",
       "\n",
       "    .dataframe thead th {\n",
       "        text-align: right;\n",
       "    }\n",
       "</style>\n",
       "<table border=\"1\" class=\"dataframe\">\n",
       "  <thead>\n",
       "    <tr style=\"text-align: right;\">\n",
       "      <th></th>\n",
       "      <th>books_count</th>\n",
       "      <th>mean_rating</th>\n",
       "    </tr>\n",
       "    <tr>\n",
       "      <th>author</th>\n",
       "      <th></th>\n",
       "      <th></th>\n",
       "    </tr>\n",
       "  </thead>\n",
       "  <tbody>\n",
       "    <tr>\n",
       "      <th>Muriel Barbery</th>\n",
       "      <td>1</td>\n",
       "      <td>4.0</td>\n",
       "    </tr>\n",
       "    <tr>\n",
       "      <th>Chris Cleave</th>\n",
       "      <td>1</td>\n",
       "      <td>4.1</td>\n",
       "    </tr>\n",
       "    <tr>\n",
       "      <th>Ian K. Smith M.D.</th>\n",
       "      <td>1</td>\n",
       "      <td>4.1</td>\n",
       "    </tr>\n",
       "    <tr>\n",
       "      <th>Pierre Dukan</th>\n",
       "      <td>1</td>\n",
       "      <td>4.1</td>\n",
       "    </tr>\n",
       "    <tr>\n",
       "      <th>Elizabeth Strout</th>\n",
       "      <td>1</td>\n",
       "      <td>4.2</td>\n",
       "    </tr>\n",
       "  </tbody>\n",
       "</table>\n",
       "</div>"
      ],
      "text/plain": [
       "                   books_count  mean_rating\n",
       "author                                     \n",
       "Muriel Barbery               1          4.0\n",
       "Chris Cleave                 1          4.1\n",
       "Ian K. Smith M.D.            1          4.1\n",
       "Pierre Dukan                 1          4.1\n",
       "Elizabeth Strout             1          4.2"
      ]
     },
     "execution_count": 14,
     "metadata": {},
     "output_type": "execute_result"
    }
   ],
   "source": [
    "union_df = pd.concat([df_tmp, df_tmp1], axis=1)\n",
    "union_df.sort_values(by=[\"books_count\", \"mean_rating\"], inplace=True)\n",
    "union_df.head()"
   ]
  },
  {
   "cell_type": "code",
   "execution_count": 15,
   "id": "fb403324",
   "metadata": {},
   "outputs": [
    {
     "name": "stdout",
     "output_type": "stream",
     "text": [
      "Який автор перший у списку? Відповідь: Muriel Barbery\n"
     ]
    }
   ],
   "source": [
    "print(f\"Який автор перший у списку? Відповідь: {union_df.index[0]}\")"
   ]
  },
  {
   "cell_type": "code",
   "execution_count": 16,
   "id": "ce36bfe0",
   "metadata": {},
   "outputs": [
    {
     "data": {
      "image/png": "[encoded data removed]",
      "text/plain": [
       "<Figure size 732x300 with 1 Axes>"
      ]
     },
     "metadata": {},
     "output_type": "display_data"
    }
   ],
   "source": [
    "plot_data1 = file_data.groupby(by=[\"year\", \"genre\"]).agg({\"name\": [\"count\"]})\n",
    "plot_data1 = plot_data1.reset_index()  \n",
    "plot_data1.columns = [\"year\", \"genre\", \"count\"]\n",
    "\n",
    "sns.set_theme()\n",
    "g = sns.relplot(\n",
    "    data=plot_data1,\n",
    "    x=\"year\", y=\"count\", height=3, aspect=2, hue='genre'\n",
    ")\n",
    "g.fig.suptitle(\"Кількість книг по рокам\", fontsize=12)\n",
    "g.fig.subplots_adjust(top=0.9);"
   ]
  },
  {
   "cell_type": "code",
   "execution_count": 17,
   "id": "a996ac28",
   "metadata": {},
   "outputs": [
    {
     "data": {
      "image/png": "[encoded data removed]",
      "text/plain": [
       "<Figure size 732x300 with 1 Axes>"
      ]
     },
     "metadata": {},
     "output_type": "display_data"
    }
   ],
   "source": [
    "plot_data2 = file_data.groupby(by=[\"year\", \"genre\"]).agg({\"user_rating\": [\"mean\"]})\n",
    "plot_data2 = plot_data2.reset_index()  \n",
    "plot_data2.columns = [\"year\", \"genre\", \"rating\"]\n",
    "\n",
    "sns.set_theme()\n",
    "g = sns.relplot(\n",
    "    data=plot_data2,\n",
    "    x=\"year\", y=\"rating\", height=3, aspect=2, hue='genre'\n",
    ")\n",
    "g.fig.suptitle(\"Середній рейтинг книг по рокам\", fontsize=12)\n",
    "g.fig.subplots_adjust(top=0.9);"
   ]
  },
  {
   "cell_type": "code",
   "execution_count": 18,
   "id": "fb4d9f55",
   "metadata": {},
   "outputs": [
    {
     "data": {
      "image/png": "[encoded data removed]",
      "text/plain": [
       "<Figure size 800x300 with 1 Axes>"
      ]
     },
     "metadata": {},
     "output_type": "display_data"
    }
   ],
   "source": [
    "plot_data3 = file_data.groupby(by=[\"author\"])[\"reviews\"].sum()\n",
    "plot_data3.sort_values(ascending=False, inplace=True)\n",
    "plot_data3 = plot_data3[:15]\n",
    "\n",
    "fig, ax = plt.subplots(figsize=(8, 3))\n",
    "plot_data3.plot(kind=\"bar\", ax=ax)\n",
    "ax.set_title(\"Топ-15 авторів по відгукам\")\n",
    "ax.set_ylabel(\"Кількість відгуків\")\n",
    "ax.set_xlabel(\"Автор\");\n"
   ]
  },
  {
   "cell_type": "code",
   "execution_count": null,
   "id": "5a23534e",
   "metadata": {},
   "outputs": [],
   "source": []
  }
 ],
 "metadata": {
  "kernelspec": {
   "display_name": "Python 3 (ipykernel)",
   "language": "python",
   "name": "python3"
  },
  "language_info": {
   "codemirror_mode": {
    "name": "ipython",
    "version": 3
   },
   "file_extension": ".py",
   "mimetype": "text/x-python",
   "name": "python",
   "nbconvert_exporter": "python",
   "pygments_lexer": "ipython3",
   "version": "3.10.8"
  }
 },
 "nbformat": 4,
 "nbformat_minor": 5
}

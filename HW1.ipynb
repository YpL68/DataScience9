{
 "cells": [
  {
   "cell_type": "code",
   "execution_count": 2,
   "id": "fc88d50c",
   "metadata": {},
   "outputs": [],
   "source": [
    "import numpy as np"
   ]
  },
  {
   "cell_type": "markdown",
   "id": "be890cc3",
   "metadata": {},
   "source": [
    "1. Створіть одновимірний масив (вектор) з першими 10-ма натуральними числами та виведіть його значення."
   ]
  },
  {
   "cell_type": "code",
   "execution_count": 6,
   "id": "0cc216ec",
   "metadata": {},
   "outputs": [
    {
     "name": "stdout",
     "output_type": "stream",
     "text": [
      "arr_10_i:\n",
      " [ 1  2  3  4  5  6  7  8  9 10]\n"
     ]
    }
   ],
   "source": [
    "arr_10_i = np.arange(1, 11, dtype=int)\n",
    "print(f\"arr_10_i:\\n {arr_10_i}\")"
   ]
  },
  {
   "cell_type": "markdown",
   "id": "ed73518a",
   "metadata": {},
   "source": [
    "2. Створіть двовимірний масив (матрицю) розміром 3x3, заповніть його нулями та виведіть його значення."
   ]
  },
  {
   "cell_type": "code",
   "execution_count": 8,
   "id": "1c6d4238",
   "metadata": {},
   "outputs": [
    {
     "name": "stdout",
     "output_type": "stream",
     "text": [
      "arr_3x3_i:\n",
      " [[0 0 0]\n",
      " [0 0 0]\n",
      " [0 0 0]]\n"
     ]
    }
   ],
   "source": [
    "m_3x3_i = np.zeros((3, 3), dtype=int)\n",
    "print(f\"arr_3x3_i:\\n {m_3x3_i}\")"
   ]
  },
  {
   "cell_type": "markdown",
   "id": "8fed4749",
   "metadata": {},
   "source": [
    "3. Створіть масив розміром 5x5, заповніть його випадковими цілими \n",
    "числами в діапазоні від 1 до 10 та виведіть його значення."
   ]
  },
  {
   "cell_type": "code",
   "execution_count": 9,
   "id": "fe208f3b",
   "metadata": {},
   "outputs": [
    {
     "name": "stdout",
     "output_type": "stream",
     "text": [
      "arr_5x5_i:\n",
      " [[ 7  4  8  7  4]\n",
      " [ 1  5  2  8  7]\n",
      " [ 6  2  4  4  4]\n",
      " [ 3  2  6  8  2]\n",
      " [ 4  7  7 10 10]]\n"
     ]
    }
   ],
   "source": [
    "arr_5x5_i = np.random.randint(1, 11, size=(5, 5))\n",
    "print(f\"arr_5x5_i:\\n {arr_5x5_i}\")"
   ]
  },
  {
   "cell_type": "markdown",
   "id": "eeaf79b0",
   "metadata": {},
   "source": [
    "4. Створіть масив розміром 4x4, заповніть його випадковими дійсними числами в діапазоні від 0 до 1 та виведіть його значення."
   ]
  },
  {
   "cell_type": "code",
   "execution_count": 3,
   "id": "a329635a",
   "metadata": {},
   "outputs": [
    {
     "name": "stdout",
     "output_type": "stream",
     "text": [
      "arr_4x4_f:\n",
      " [[0.03156796 0.02055796 0.09489186 0.05523245]\n",
      " [0.49223043 0.34258486 0.75943218 0.17300675]\n",
      " [0.79655207 0.1979159  0.94573955 0.63877082]\n",
      " [0.03705426 0.30554792 0.15271299 0.49823452]]\n"
     ]
    }
   ],
   "source": [
    "arr_4x4_f = np.random.rand(4, 4)\n",
    "print(f\"arr_4x4_f:\\n {arr_4x4_f}\")"
   ]
  },
  {
   "cell_type": "markdown",
   "id": "f02295e4",
   "metadata": {},
   "source": [
    "5. Створіть два одновимірних масиви розміром 5, заповніть їх випадковими цілими числами в діапазоні від 1 до 10 та виконайте на них поелементні операції додавання, віднімання та множення."
   ]
  },
  {
   "cell_type": "code",
   "execution_count": 4,
   "id": "90d3624e",
   "metadata": {},
   "outputs": [
    {
     "name": "stdout",
     "output_type": "stream",
     "text": [
      "arr1_5_i:\n",
      " [2 2 6 3 5]\n",
      "arr2_5_i:\n",
      " [9 4 8 2 3]\n",
      "arr1_5_i + arr2_5_i:\n",
      " [11  6 14  5  8]\n",
      "arr1_5_i - arr2_5_i:\n",
      " [-7 -2 -2  1  2]\n",
      "arr1_5_i * arr2_5_i:\n",
      " [18  8 48  6 15]\n"
     ]
    }
   ],
   "source": [
    "arr1_5_i = np.random.randint(1, 11, size=5)\n",
    "arr2_5_i = np.random.randint(1, 11, size=5)\n",
    "print(f\"arr1_5_i:\\n {arr1_5_i}\")\n",
    "print(f\"arr2_5_i:\\n {arr2_5_i}\")\n",
    "print(f\"arr1_5_i + arr2_5_i:\\n {arr1_5_i + arr2_5_i}\")\n",
    "print(f\"arr1_5_i - arr2_5_i:\\n {arr1_5_i - arr2_5_i}\")\n",
    "print(f\"arr1_5_i * arr2_5_i:\\n {arr1_5_i * arr2_5_i}\")"
   ]
  },
  {
   "cell_type": "markdown",
   "id": "61d97a46",
   "metadata": {},
   "source": [
    "6. Створіть два вектори розміром 7, заповніть довільними числами та знайдіть їх скалярний добуток."
   ]
  },
  {
   "cell_type": "code",
   "execution_count": 5,
   "id": "00d7fee4",
   "metadata": {},
   "outputs": [
    {
     "name": "stdout",
     "output_type": "stream",
     "text": [
      "v1_7_i:\n",
      " [4 7 3 8 1 9 8]\n",
      "v2_7_i:\n",
      " [6 2 4 6 8 3 9]\n",
      "v1_7_i @ v2_7_i: 205\n"
     ]
    }
   ],
   "source": [
    "v1_7_i = np.random.randint(1, 11, size=7)\n",
    "v2_7_i = np.random.randint(1, 11, size=7)\n",
    "print(f\"v1_7_i:\\n {v1_7_i}\")\n",
    "print(f\"v2_7_i:\\n {v2_7_i}\")\n",
    "print(f\"v1_7_i @ v2_7_i: {v1_7_i @ v2_7_i}\")"
   ]
  },
  {
   "cell_type": "markdown",
   "id": "efb6e694",
   "metadata": {},
   "source": [
    "7. Створіть дві матриці розміром 2x2 та 2x3, заповніть їх випадковими цілими числами в діапазоні від 1 до 10 та перемножте їх між собою."
   ]
  },
  {
   "cell_type": "code",
   "execution_count": 6,
   "id": "18b12a0b",
   "metadata": {},
   "outputs": [
    {
     "name": "stdout",
     "output_type": "stream",
     "text": [
      "m1_2x2_i:\n",
      " [[6 5]\n",
      " [9 4]]\n",
      "m2_2x3_i:\n",
      " [[1 5 6]\n",
      " [4 8 2]]\n",
      "m1_2x2_i @ m2_2x3_i:\n",
      " [[26 70 46]\n",
      " [25 77 62]]\n"
     ]
    }
   ],
   "source": [
    "m1_2x2_i = np.random.randint(1, 11, size=(2, 2))\n",
    "m2_2x3_i = np.random.randint(1, 11, size=(2, 3))\n",
    "print(f\"m1_2x2_i:\\n {m1_2x2_i}\")\n",
    "print(f\"m2_2x3_i:\\n {m2_2x3_i}\")\n",
    "print(f\"m1_2x2_i @ m2_2x3_i:\\n {m1_2x2_i @ m2_2x3_i}\")"
   ]
  },
  {
   "cell_type": "markdown",
   "id": "8a7ab410",
   "metadata": {},
   "source": [
    "8. Створіть матрицю розміром 3x3, заповніть її випадковими цілими числами в діапазоні від 1 до 10 та знайдіть її обернену матрицю."
   ]
  },
  {
   "cell_type": "code",
   "execution_count": 7,
   "id": "64a1efb0",
   "metadata": {},
   "outputs": [
    {
     "name": "stdout",
     "output_type": "stream",
     "text": [
      "m_3x3_f:\n",
      " [[0.30951476 0.13952285 0.10410801]\n",
      " [0.24840572 0.19923609 0.98027332]\n",
      " [0.84446419 0.84633716 0.60688404]]\n",
      "m_3x3_f_inv:\n",
      " [[ 5.88027287 -0.02851064 -0.96268027]\n",
      " [-5.61745683 -0.82906335  2.30279731]\n",
      " [-0.34836539  1.19585173 -0.2240855 ]]\n"
     ]
    }
   ],
   "source": [
    "m_3x3_f = np.random.rand(3, 3)\n",
    "print(f\"m_3x3_f:\\n {m_3x3_f}\")\n",
    "m_3x3_f_inv = np.linalg.inv(m_3x3_f)\n",
    "print(f\"m_3x3_f_inv:\\n {m_3x3_f_inv}\")"
   ]
  },
  {
   "cell_type": "markdown",
   "id": "6c76a1a4",
   "metadata": {},
   "source": [
    "9. Створіть матрицю розміром 4x4, заповніть її випадковими дійсними числами в діапазоні від 0 до 1 та транспонуйте її."
   ]
  },
  {
   "cell_type": "code",
   "execution_count": 8,
   "id": "331e093e",
   "metadata": {},
   "outputs": [
    {
     "name": "stdout",
     "output_type": "stream",
     "text": [
      "m_4x4_i:\n",
      " [[10  1  9  3]\n",
      " [ 1  5  8  5]\n",
      " [ 8  3  5  3]\n",
      " [ 1 10  1  4]]\n",
      "m_4x4_i_t:\n",
      " [[10  1  8  1]\n",
      " [ 1  5  3 10]\n",
      " [ 9  8  5  1]\n",
      " [ 3  5  3  4]]\n"
     ]
    }
   ],
   "source": [
    "m_4x4_i = np.random.randint(1, 11, size=(4, 4))\n",
    "print(f\"m_4x4_i:\\n {m_4x4_i}\")\n",
    "m_4x4_i_t = m_4x4_i.T\n",
    "print(f\"m_4x4_i_t:\\n {m_4x4_i_t}\")"
   ]
  },
  {
   "cell_type": "markdown",
   "id": "f1d430fa",
   "metadata": {},
   "source": [
    "10. Створіть матрицю розміром 3x4 та вектор розміром 4, заповніть їх випадковими цілими числами в діапазоні від 1 до 10 та перемножте матрицю на вектор."
   ]
  },
  {
   "cell_type": "code",
   "execution_count": 9,
   "id": "53c707b0",
   "metadata": {},
   "outputs": [
    {
     "name": "stdout",
     "output_type": "stream",
     "text": [
      "m_3x4_i:\n",
      " [[ 1  8  3  8]\n",
      " [ 4 10  6 10]\n",
      " [ 9  7  8  6]]\n",
      "v_4_i:\n",
      " [7 1 1 2]\n",
      "m_3x4_i @ v_4_i: [34 64 90]\n"
     ]
    }
   ],
   "source": [
    "m_3x4_i = np.random.randint(1, 11, size=(3, 4))\n",
    "v_4_i = np.random.randint(1, 11, size=4)\n",
    "print(f\"m_3x4_i:\\n {m_3x4_i}\")\n",
    "print(f\"v_4_i:\\n {v_4_i}\")\n",
    "print(f\"m_3x4_i @ v_4_i: {m_3x4_i @ v_4_i}\")"
   ]
  },
  {
   "cell_type": "markdown",
   "id": "a39a0862",
   "metadata": {},
   "source": [
    "11. Створіть матрицю розміром 2x3 та вектор розміром 3, заповніть їх випадковими дійсними числами в діапазоні від 0 до 1 та перемножте матрицю на вектор."
   ]
  },
  {
   "cell_type": "code",
   "execution_count": 10,
   "id": "77d433ca",
   "metadata": {},
   "outputs": [
    {
     "name": "stdout",
     "output_type": "stream",
     "text": [
      "m_2x3_f:\n",
      " [[0.75374565 0.83806704 0.84677209]\n",
      " [0.00865843 0.70330262 0.54745726]]\n",
      "v_3_f:\n",
      " [0.00349589 0.33164425 0.58028503]\n",
      "m_2x3_f @ v_3_f: [0.77194429 0.55095779]\n"
     ]
    }
   ],
   "source": [
    "m_2x3_f = np.random.rand(2, 3)\n",
    "v_3_f = np.random.rand(3)\n",
    "print(f\"m_2x3_f:\\n {m_2x3_f}\")\n",
    "print(f\"v_3_f:\\n {v_3_f}\")\n",
    "print(f\"m_2x3_f @ v_3_f: {m_2x3_f @ v_3_f}\")"
   ]
  },
  {
   "cell_type": "markdown",
   "id": "4bbbbb09",
   "metadata": {},
   "source": [
    "12. Створіть дві матриці розміром 2x2, заповніть їх випадковими цілими числами в діапазоні від 1 до 10 та виконайте їхнє поелементне множення."
   ]
  },
  {
   "cell_type": "code",
   "execution_count": 11,
   "id": "f0bc81dc",
   "metadata": {},
   "outputs": [
    {
     "name": "stdout",
     "output_type": "stream",
     "text": [
      "m1_2x2_i:\n",
      " [[6 2]\n",
      " [1 7]]\n",
      "m2_2x2_i:\n",
      " [[ 8 10]\n",
      " [ 9  2]]\n",
      "m1_2x2_i * m2_2x2_i:\n",
      " [[48 20]\n",
      " [ 9 14]]\n"
     ]
    }
   ],
   "source": [
    "m1_2x2_i = np.random.randint(1, 11, size=(2, 2))\n",
    "m2_2x2_i = np.random.randint(1, 11, size=(2, 2))\n",
    "print(f\"m1_2x2_i:\\n {m1_2x2_i}\")\n",
    "print(f\"m2_2x2_i:\\n {m2_2x2_i}\")\n",
    "print(f\"m1_2x2_i * m2_2x2_i:\\n {m1_2x2_i * m2_2x2_i}\")"
   ]
  },
  {
   "cell_type": "markdown",
   "id": "6d509365",
   "metadata": {},
   "source": [
    "13. Створіть дві матриці розміром 2x2, заповніть їх випадковими цілими числами в діапазоні від 1 до 10 та знайдіть їх добуток."
   ]
  },
  {
   "cell_type": "code",
   "execution_count": 12,
   "id": "a40b1511",
   "metadata": {},
   "outputs": [
    {
     "name": "stdout",
     "output_type": "stream",
     "text": [
      "m1_2x2_i:\n",
      " [[1 8]\n",
      " [1 5]]\n",
      "m2_2x2_i:\n",
      " [[2 7]\n",
      " [3 5]]\n",
      "m1_2x2_i @ m2_2x2_i:\n",
      " [[26 47]\n",
      " [17 32]]\n"
     ]
    }
   ],
   "source": [
    "m1_2x2_i = np.random.randint(1, 11, size=(2, 2))\n",
    "m2_2x2_i = np.random.randint(1, 11, size=(2, 2))\n",
    "print(f\"m1_2x2_i:\\n {m1_2x2_i}\")\n",
    "print(f\"m2_2x2_i:\\n {m2_2x2_i}\")\n",
    "print(f\"m1_2x2_i @ m2_2x2_i:\\n {m1_2x2_i @ m2_2x2_i}\")"
   ]
  },
  {
   "cell_type": "markdown",
   "id": "6714f23d",
   "metadata": {},
   "source": [
    "14. Створіть матрицю розміром 5x5, заповніть її випадковими цілими числами в діапазоні від 1 до 100 та знайдіть суму елементів матриці."
   ]
  },
  {
   "cell_type": "code",
   "execution_count": 13,
   "id": "24a19893",
   "metadata": {},
   "outputs": [
    {
     "name": "stdout",
     "output_type": "stream",
     "text": [
      "m_5x5_i:\n",
      " [[52 93  4 26 87]\n",
      " [ 2 58 21 44  6]\n",
      " [69 55 87  2  9]\n",
      " [22 23 20 69 22]\n",
      " [14 36 87 66  5]]\n",
      "Sum of all the elements is 979\n"
     ]
    }
   ],
   "source": [
    "m_5x5_i = np.random.randint(1, 101, size=(5, 5))\n",
    "print(f\"m_5x5_i:\\n {m_5x5_i}\")\n",
    "print(f\"Sum of all the elements is {m_5x5_i.sum()}\")"
   ]
  },
  {
   "cell_type": "markdown",
   "id": "f1db4f3a",
   "metadata": {},
   "source": [
    "15. Створіть дві матриці розміром 4x4, заповніть їх випадковими цілими числами в діапазоні від 1 до 10 та знайдіть їхню різницю."
   ]
  },
  {
   "cell_type": "code",
   "execution_count": 14,
   "id": "506aaf2c",
   "metadata": {},
   "outputs": [
    {
     "name": "stdout",
     "output_type": "stream",
     "text": [
      "m1_4x4_i:\n",
      " [[ 7  7  3  2]\n",
      " [ 5  4  9  6]\n",
      " [ 7  1  9  6]\n",
      " [10  2  5  3]]\n",
      "m2_4x4_i:\n",
      " [[ 2  2  3  2]\n",
      " [ 3  7  8  7]\n",
      " [ 2  1 10  8]\n",
      " [ 2  2  5  5]]\n",
      "m1_4x4_i - m2_4x4_i):\n",
      " [[ 5  5  0  0]\n",
      " [ 2 -3  1 -1]\n",
      " [ 5  0 -1 -2]\n",
      " [ 8  0  0 -2]]\n"
     ]
    }
   ],
   "source": [
    "m1_4x4_i = np.random.randint(1, 11, size=(4, 4))\n",
    "m2_4x4_i = np.random.randint(1, 11, size=(4, 4))\n",
    "print(f\"m1_4x4_i:\\n {m1_4x4_i}\")\n",
    "print(f\"m2_4x4_i:\\n {m2_4x4_i}\")\n",
    "print(f\"m1_4x4_i - m2_4x4_i):\\n {m1_4x4_i - m2_4x4_i}\")"
   ]
  },
  {
   "cell_type": "markdown",
   "id": "9ef125a4",
   "metadata": {},
   "source": [
    "16. Створіть матрицю розміром 3x3, заповніть її випадковими дійсними числами в діапазоні від 0 до 1 та знайдіть вектор-стовпчик, що містить суму елементів кожного рядка матриці."
   ]
  },
  {
   "cell_type": "code",
   "execution_count": 15,
   "id": "c7f6d6c1",
   "metadata": {},
   "outputs": [
    {
     "name": "stdout",
     "output_type": "stream",
     "text": [
      "m_3x3_f:\n",
      " [[0.62064008 0.40762471 0.40357404]\n",
      " [0.41697937 0.82299693 0.88011482]\n",
      " [0.39340965 0.62378865 0.97142828]]\n",
      "v_3_i:\n",
      " [1 1 1]\n",
      "Result:\n",
      " [[1.43183883]\n",
      " [2.12009112]\n",
      " [1.98862658]]\n"
     ]
    }
   ],
   "source": [
    "m_3x3_f = np.random.rand(3, 3)\n",
    "v_3_i = np.full(3, 1)\n",
    "print(f\"m_3x3_f:\\n {m_3x3_f}\")\n",
    "print(f\"v_3_i:\\n {v_3_i}\")\n",
    "print(f\"Result:\\n {(m_3x3_f @ v_3_i).reshape(-1, 1)}\")"
   ]
  },
  {
   "cell_type": "markdown",
   "id": "4c18b7aa",
   "metadata": {},
   "source": [
    "17. Створіть матрицю розміром 3x4 з довільними цілими числами і створінь матрицю з квадратами цих чисел. "
   ]
  },
  {
   "cell_type": "code",
   "execution_count": 16,
   "id": "ca51fcd0",
   "metadata": {},
   "outputs": [
    {
     "name": "stdout",
     "output_type": "stream",
     "text": [
      "m_3x4_i:\n",
      " [[5 4 9 6]\n",
      " [7 2 4 4]\n",
      " [9 5 9 2]]\n",
      "Result:\n",
      " [[25 16 81 36]\n",
      " [49  4 16 16]\n",
      " [81 25 81  4]]\n"
     ]
    }
   ],
   "source": [
    "m_3x4_i = np.random.randint(1, 11, size=(3, 4))\n",
    "print(f\"m_3x4_i:\\n {m_3x4_i}\")\n",
    "print(f\"Result:\\n {m_3x4_i ** 2}\")"
   ]
  },
  {
   "cell_type": "markdown",
   "id": "3706c3cc",
   "metadata": {},
   "source": [
    "18. Створіть вектор розміром 4, заповніть його випадковими цілими числами в діапазоні від 1 до 50 та знайдіть вектор з квадратними коренями цих чисел."
   ]
  },
  {
   "cell_type": "code",
   "execution_count": 5,
   "id": "a4bb98bb",
   "metadata": {},
   "outputs": [
    {
     "name": "stdout",
     "output_type": "stream",
     "text": [
      "v1_4_i:\n",
      " [49 33 41 47]\n",
      "Result:\n",
      " [7.         5.74456265 6.40312424 6.8556546 ]\n"
     ]
    }
   ],
   "source": [
    "v1_4_i = np.random.randint(1, 51, size=4)\n",
    "print(f\"v1_4_i:\\n {v1_4_i}\")\n",
    "print(f\"Result:\\n {(v1_4_i ** 0.5)}\")"
   ]
  },
  {
   "cell_type": "code",
   "execution_count": null,
   "id": "a61d91a4",
   "metadata": {},
   "outputs": [],
   "source": []
  }
 ],
 "metadata": {
  "kernelspec": {
   "display_name": "Python 3 (ipykernel)",
   "language": "python",
   "name": "python3"
  },
  "language_info": {
   "codemirror_mode": {
    "name": "ipython",
    "version": 3
   },
   "file_extension": ".py",
   "mimetype": "text/x-python",
   "name": "python",
   "nbconvert_exporter": "python",
   "pygments_lexer": "ipython3",
   "version": "3.10.8"
  }
 },
 "nbformat": 4,
 "nbformat_minor": 5
}

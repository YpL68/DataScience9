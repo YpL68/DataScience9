{
 "cells": [
  {
   "cell_type": "markdown",
   "id": "f52b8a05",
   "metadata": {},
   "source": [
    "## Частина друга: Аналіз файлів"
   ]
  },
  {
   "cell_type": "code",
   "execution_count": 1,
   "id": "c4422f78",
   "metadata": {},
   "outputs": [],
   "source": [
    "import matplotlib.pyplot as plt\n",
    "%matplotlib inline\n",
    "\n",
    "import numpy as np\n",
    "import pandas as pd\n",
    "import seaborn as sns"
   ]
  },
  {
   "cell_type": "markdown",
   "id": "cb4a5e30",
   "metadata": {},
   "source": [
    "* Прочитайте файл 2017_jun_final.csv за допомогою методу read_csv"
   ]
  },
  {
   "cell_type": "code",
   "execution_count": 2,
   "id": "43d76f6f",
   "metadata": {},
   "outputs": [],
   "source": [
    "file_data = pd.read_csv(\"2017_jun_final.csv\")"
   ]
  },
  {
   "cell_type": "markdown",
   "id": "83687064",
   "metadata": {},
   "source": [
    "* Прочитайте отриману таблицю, використовуючи метод head"
   ]
  },
  {
   "cell_type": "code",
   "execution_count": 3,
   "id": "57ce26f7",
   "metadata": {},
   "outputs": [
    {
     "data": {
      "text/html": [
       "<div>\n",
       "<style scoped>\n",
       "    .dataframe tbody tr th:only-of-type {\n",
       "        vertical-align: middle;\n",
       "    }\n",
       "\n",
       "    .dataframe tbody tr th {\n",
       "        vertical-align: top;\n",
       "    }\n",
       "\n",
       "    .dataframe thead th {\n",
       "        text-align: right;\n",
       "    }\n",
       "</style>\n",
       "<table border=\"1\" class=\"dataframe\">\n",
       "  <thead>\n",
       "    <tr style=\"text-align: right;\">\n",
       "      <th></th>\n",
       "      <th>N</th>\n",
       "      <th>Должность</th>\n",
       "      <th>Язык.программирования</th>\n",
       "      <th>Специализация</th>\n",
       "      <th>Общий.опыт.работы</th>\n",
       "      <th>Опыт.работы.на.текущем.месте</th>\n",
       "      <th>Зарплата.в.месяц</th>\n",
       "      <th>Изменение.зарплаты.за.12.месяцев</th>\n",
       "      <th>Город</th>\n",
       "      <th>Размер.компании</th>\n",
       "      <th>...</th>\n",
       "      <th>Еще.студент</th>\n",
       "      <th>Уровень.английского</th>\n",
       "      <th>Предметная.область</th>\n",
       "      <th>Дата.заполнения</th>\n",
       "      <th>User.Agent</th>\n",
       "      <th>exp</th>\n",
       "      <th>current_job_exp</th>\n",
       "      <th>salary</th>\n",
       "      <th>Валюта</th>\n",
       "      <th>cls</th>\n",
       "    </tr>\n",
       "  </thead>\n",
       "  <tbody>\n",
       "    <tr>\n",
       "      <th>0</th>\n",
       "      <td>1</td>\n",
       "      <td>Junior QA engineer</td>\n",
       "      <td>NaN</td>\n",
       "      <td>Manual QA</td>\n",
       "      <td>0.5</td>\n",
       "      <td>0.5</td>\n",
       "      <td>400</td>\n",
       "      <td>0</td>\n",
       "      <td>Харьков</td>\n",
       "      <td>до 10 человек</td>\n",
       "      <td>...</td>\n",
       "      <td>True</td>\n",
       "      <td>ниже среднего</td>\n",
       "      <td>iOS,eCommerce</td>\n",
       "      <td>12/06/2017 12:38:08</td>\n",
       "      <td>Mozilla/5.0 (Windows NT 10.0; Win64; x64) Appl...</td>\n",
       "      <td>0.5</td>\n",
       "      <td>0.5</td>\n",
       "      <td>400</td>\n",
       "      <td>NaN</td>\n",
       "      <td>QA</td>\n",
       "    </tr>\n",
       "    <tr>\n",
       "      <th>1</th>\n",
       "      <td>2</td>\n",
       "      <td>Junior QA engineer</td>\n",
       "      <td>NaN</td>\n",
       "      <td>Manual QA</td>\n",
       "      <td>меньше 3 месяцев</td>\n",
       "      <td>меньше 3 месяцев</td>\n",
       "      <td>430</td>\n",
       "      <td>130</td>\n",
       "      <td>Харьков</td>\n",
       "      <td>свыше 1000 человек</td>\n",
       "      <td>...</td>\n",
       "      <td>True</td>\n",
       "      <td>выше среднего</td>\n",
       "      <td>Веб-разработка</td>\n",
       "      <td>12/06/2017 12:42:51</td>\n",
       "      <td>Mozilla/5.0 (iPad; CPU OS 10_2_1 like Mac OS X...</td>\n",
       "      <td>0.0</td>\n",
       "      <td>0.0</td>\n",
       "      <td>430</td>\n",
       "      <td>NaN</td>\n",
       "      <td>QA</td>\n",
       "    </tr>\n",
       "  </tbody>\n",
       "</table>\n",
       "<p>2 rows × 25 columns</p>\n",
       "</div>"
      ],
      "text/plain": [
       "   N           Должность Язык.программирования Специализация  \\\n",
       "0  1  Junior QA engineer                   NaN     Manual QA   \n",
       "1  2  Junior QA engineer                   NaN     Manual QA   \n",
       "\n",
       "  Общий.опыт.работы Опыт.работы.на.текущем.месте  Зарплата.в.месяц  \\\n",
       "0               0.5                          0.5               400   \n",
       "1  меньше 3 месяцев             меньше 3 месяцев               430   \n",
       "\n",
       "   Изменение.зарплаты.за.12.месяцев    Город     Размер.компании  ...  \\\n",
       "0                                 0  Харьков       до 10 человек  ...   \n",
       "1                               130  Харьков  свыше 1000 человек  ...   \n",
       "\n",
       "  Еще.студент Уровень.английского  Предметная.область      Дата.заполнения  \\\n",
       "0        True       ниже среднего       iOS,eCommerce  12/06/2017 12:38:08   \n",
       "1        True       выше среднего      Веб-разработка  12/06/2017 12:42:51   \n",
       "\n",
       "                                          User.Agent  exp current_job_exp  \\\n",
       "0  Mozilla/5.0 (Windows NT 10.0; Win64; x64) Appl...  0.5             0.5   \n",
       "1  Mozilla/5.0 (iPad; CPU OS 10_2_1 like Mac OS X...  0.0             0.0   \n",
       "\n",
       "  salary Валюта cls  \n",
       "0    400    NaN  QA  \n",
       "1    430    NaN  QA  \n",
       "\n",
       "[2 rows x 25 columns]"
      ]
     },
     "execution_count": 3,
     "metadata": {},
     "output_type": "execute_result"
    }
   ],
   "source": [
    "file_data.head(2)"
   ]
  },
  {
   "cell_type": "markdown",
   "id": "9d5264d9",
   "metadata": {},
   "source": [
    "* Визначте розмір таблиці за допомогою методу shape"
   ]
  },
  {
   "cell_type": "code",
   "execution_count": 4,
   "id": "4861a541",
   "metadata": {},
   "outputs": [
    {
     "name": "stdout",
     "output_type": "stream",
     "text": [
      "Result: 8704 rows x 25 columns\n"
     ]
    }
   ],
   "source": [
    "print(f\"Result: {file_data.shape[0]} rows x {file_data.shape[1]} columns\")"
   ]
  },
  {
   "cell_type": "markdown",
   "id": "98e65c62",
   "metadata": {},
   "source": [
    "* Визначте типи всіх стовпців за допомогою dataframe.dtypes"
   ]
  },
  {
   "cell_type": "code",
   "execution_count": 5,
   "id": "8068a693",
   "metadata": {},
   "outputs": [
    {
     "data": {
      "text/plain": [
       "N                                     int64\n",
       "Должность                            object\n",
       "Язык.программирования                object\n",
       "Специализация                        object\n",
       "Общий.опыт.работы                    object\n",
       "Опыт.работы.на.текущем.месте         object\n",
       "Зарплата.в.месяц                      int64\n",
       "Изменение.зарплаты.за.12.месяцев      int64\n",
       "Город                                object\n",
       "Размер.компании                      object\n",
       "Тип.компании                         object\n",
       "Пол                                  object\n",
       "Возраст                               int64\n",
       "Образование                          object\n",
       "Университет                          object\n",
       "Еще.студент                            bool\n",
       "Уровень.английского                  object\n",
       "Предметная.область                   object\n",
       "Дата.заполнения                      object\n",
       "User.Agent                           object\n",
       "exp                                 float64\n",
       "current_job_exp                     float64\n",
       "salary                                int64\n",
       "Валюта                               object\n",
       "cls                                  object\n",
       "dtype: object"
      ]
     },
     "execution_count": 5,
     "metadata": {},
     "output_type": "execute_result"
    }
   ],
   "source": [
    "file_data.dtypes"
   ]
  },
  {
   "cell_type": "markdown",
   "id": "a8b89146",
   "metadata": {},
   "source": [
    "* Порахуйте, яка частка пропусків міститься в кожній колонці (використовуйте методи isnull та sum)"
   ]
  },
  {
   "cell_type": "code",
   "execution_count": 6,
   "id": "bf8ad6ab",
   "metadata": {},
   "outputs": [
    {
     "data": {
      "text/plain": [
       "N                                    0.000000\n",
       "Должность                            0.000000\n",
       "Язык.программирования               44.232537\n",
       "Специализация                       82.938879\n",
       "Общий.опыт.работы                    0.000000\n",
       "Опыт.работы.на.текущем.месте         0.000000\n",
       "Зарплата.в.месяц                     0.000000\n",
       "Изменение.зарплаты.за.12.месяцев     0.000000\n",
       "Город                                0.000000\n",
       "Размер.компании                      0.000000\n",
       "Тип.компании                         0.000000\n",
       "Пол                                  0.000000\n",
       "Возраст                              0.000000\n",
       "Образование                          0.000000\n",
       "Университет                          4.113051\n",
       "Еще.студент                          0.000000\n",
       "Уровень.английского                  0.000000\n",
       "Предметная.область                   2.562040\n",
       "Дата.заполнения                      0.000000\n",
       "User.Agent                           0.000000\n",
       "exp                                  0.000000\n",
       "current_job_exp                      0.000000\n",
       "salary                               0.000000\n",
       "Валюта                              99.885110\n",
       "cls                                 18.083640\n",
       "dtype: float64"
      ]
     },
     "execution_count": 6,
     "metadata": {},
     "output_type": "execute_result"
    }
   ],
   "source": [
    "file_data.isnull().sum(axis=0)/len(file_data)*100  # in %"
   ]
  },
  {
   "cell_type": "markdown",
   "id": "51d9637c",
   "metadata": {},
   "source": [
    "* Видаліть усі стовпці з пропусками, крім стовпця \"Мова програмування\""
   ]
  },
  {
   "cell_type": "code",
   "execution_count": 7,
   "id": "2b32181c",
   "metadata": {},
   "outputs": [],
   "source": [
    "cols_for_delete = [idx for idx, val in enumerate(file_data.isnull().sum(axis=0)) if val > 0 if idx != 2]\n",
    "file_data.drop(file_data.columns[cols_for_delete], axis= 1, inplace= True)"
   ]
  },
  {
   "cell_type": "markdown",
   "id": "f45e95c1",
   "metadata": {},
   "source": [
    "* Знову порахуйте, яка частка пропусків міститься в кожній колонці і переконайтеся, що залишився тільки стовпець \"Мова.програмування\""
   ]
  },
  {
   "cell_type": "code",
   "execution_count": 8,
   "id": "397bc51f",
   "metadata": {},
   "outputs": [
    {
     "data": {
      "text/plain": [
       "N                                      0\n",
       "Должность                              0\n",
       "Язык.программирования               3850\n",
       "Общий.опыт.работы                      0\n",
       "Опыт.работы.на.текущем.месте           0\n",
       "Зарплата.в.месяц                       0\n",
       "Изменение.зарплаты.за.12.месяцев       0\n",
       "Город                                  0\n",
       "Размер.компании                        0\n",
       "Тип.компании                           0\n",
       "Пол                                    0\n",
       "Возраст                                0\n",
       "Образование                            0\n",
       "Еще.студент                            0\n",
       "Уровень.английского                    0\n",
       "Дата.заполнения                        0\n",
       "User.Agent                             0\n",
       "exp                                    0\n",
       "current_job_exp                        0\n",
       "salary                                 0\n",
       "dtype: int64"
      ]
     },
     "execution_count": 8,
     "metadata": {},
     "output_type": "execute_result"
    }
   ],
   "source": [
    "# Вибачте, тут вже просто кількість\n",
    "file_data.isnull().sum(axis=0)"
   ]
  },
  {
   "cell_type": "markdown",
   "id": "0fc7bf86",
   "metadata": {},
   "source": [
    "* Видаліть усі рядки у вихідній таблиці за допомогою методу dropna\n",
    "* Визначте новий розмір таблиці за допомогою методу shape"
   ]
  },
  {
   "cell_type": "code",
   "execution_count": 9,
   "id": "76546f86",
   "metadata": {},
   "outputs": [
    {
     "name": "stdout",
     "output_type": "stream",
     "text": [
      "Result: 4854 rows x 20 columns\n"
     ]
    }
   ],
   "source": [
    "file_data.dropna(inplace= True)\n",
    "print(f\"Result: {file_data.shape[0]} rows x {file_data.shape[1]} columns\")"
   ]
  },
  {
   "cell_type": "markdown",
   "id": "db148a1c",
   "metadata": {},
   "source": [
    "* Створіть нову таблицю python_data, в якій будуть тільки рядки зі спеціалістами, які вказали мову програмування Python"
   ]
  },
  {
   "cell_type": "code",
   "execution_count": 10,
   "id": "459429ad",
   "metadata": {},
   "outputs": [
    {
     "data": {
      "text/html": [
       "<div>\n",
       "<style scoped>\n",
       "    .dataframe tbody tr th:only-of-type {\n",
       "        vertical-align: middle;\n",
       "    }\n",
       "\n",
       "    .dataframe tbody tr th {\n",
       "        vertical-align: top;\n",
       "    }\n",
       "\n",
       "    .dataframe thead th {\n",
       "        text-align: right;\n",
       "    }\n",
       "</style>\n",
       "<table border=\"1\" class=\"dataframe\">\n",
       "  <thead>\n",
       "    <tr style=\"text-align: right;\">\n",
       "      <th></th>\n",
       "      <th>N</th>\n",
       "      <th>Должность</th>\n",
       "      <th>Язык.программирования</th>\n",
       "      <th>Общий.опыт.работы</th>\n",
       "      <th>Опыт.работы.на.текущем.месте</th>\n",
       "      <th>Зарплата.в.месяц</th>\n",
       "      <th>Изменение.зарплаты.за.12.месяцев</th>\n",
       "      <th>Город</th>\n",
       "      <th>Размер.компании</th>\n",
       "      <th>Тип.компании</th>\n",
       "      <th>Пол</th>\n",
       "      <th>Возраст</th>\n",
       "      <th>Образование</th>\n",
       "      <th>Еще.студент</th>\n",
       "      <th>Уровень.английского</th>\n",
       "      <th>Дата.заполнения</th>\n",
       "      <th>User.Agent</th>\n",
       "      <th>exp</th>\n",
       "      <th>current_job_exp</th>\n",
       "      <th>salary</th>\n",
       "    </tr>\n",
       "  </thead>\n",
       "  <tbody>\n",
       "    <tr>\n",
       "      <th>12</th>\n",
       "      <td>13</td>\n",
       "      <td>Software Engineer</td>\n",
       "      <td>Python</td>\n",
       "      <td>1</td>\n",
       "      <td>меньше 3 месяцев</td>\n",
       "      <td>800</td>\n",
       "      <td>200</td>\n",
       "      <td>Киев</td>\n",
       "      <td>до 50 человек</td>\n",
       "      <td>Аутсорсинговая</td>\n",
       "      <td>мужской</td>\n",
       "      <td>26</td>\n",
       "      <td>Высшее</td>\n",
       "      <td>False</td>\n",
       "      <td>ниже среднего</td>\n",
       "      <td>12/06/2017 13:05:54</td>\n",
       "      <td>Mozilla/5.0 (Windows NT 6.1; Win64; x64) Apple...</td>\n",
       "      <td>1.0</td>\n",
       "      <td>0.0</td>\n",
       "      <td>800</td>\n",
       "    </tr>\n",
       "    <tr>\n",
       "      <th>68</th>\n",
       "      <td>69</td>\n",
       "      <td>Software Engineer</td>\n",
       "      <td>Python</td>\n",
       "      <td>1.5</td>\n",
       "      <td>0.5</td>\n",
       "      <td>900</td>\n",
       "      <td>900</td>\n",
       "      <td>Киев</td>\n",
       "      <td>до 10 человек</td>\n",
       "      <td>Стартап</td>\n",
       "      <td>мужской</td>\n",
       "      <td>21</td>\n",
       "      <td>Незаконченное высшее</td>\n",
       "      <td>True</td>\n",
       "      <td>выше среднего</td>\n",
       "      <td>12/06/2017 13:11:17</td>\n",
       "      <td>Mozilla/5.0 (Windows NT 10.0; Win64; x64) Appl...</td>\n",
       "      <td>1.5</td>\n",
       "      <td>0.5</td>\n",
       "      <td>900</td>\n",
       "    </tr>\n",
       "    <tr>\n",
       "      <th>87</th>\n",
       "      <td>88</td>\n",
       "      <td>Junior Software Engineer</td>\n",
       "      <td>Python</td>\n",
       "      <td>0.5</td>\n",
       "      <td>0.5</td>\n",
       "      <td>600</td>\n",
       "      <td>0</td>\n",
       "      <td>Киев</td>\n",
       "      <td>до 10 человек</td>\n",
       "      <td>Аутсорсинговая</td>\n",
       "      <td>мужской</td>\n",
       "      <td>19</td>\n",
       "      <td>Незаконченное высшее</td>\n",
       "      <td>True</td>\n",
       "      <td>выше среднего</td>\n",
       "      <td>12/06/2017 13:12:25</td>\n",
       "      <td>Mozilla/5.0 (X11; Linux x86_64) AppleWebKit/53...</td>\n",
       "      <td>0.5</td>\n",
       "      <td>0.5</td>\n",
       "      <td>600</td>\n",
       "    </tr>\n",
       "    <tr>\n",
       "      <th>114</th>\n",
       "      <td>115</td>\n",
       "      <td>Junior Software Engineer</td>\n",
       "      <td>Python</td>\n",
       "      <td>1.5</td>\n",
       "      <td>0.5</td>\n",
       "      <td>685</td>\n",
       "      <td>250</td>\n",
       "      <td>Киев</td>\n",
       "      <td>до 1000 человек</td>\n",
       "      <td>Аутсорсинговая</td>\n",
       "      <td>мужской</td>\n",
       "      <td>21</td>\n",
       "      <td>Незаконченное высшее</td>\n",
       "      <td>False</td>\n",
       "      <td>средний</td>\n",
       "      <td>12/06/2017 13:14:52</td>\n",
       "      <td>Mozilla/5.0 (X11; Linux x86_64) AppleWebKit/53...</td>\n",
       "      <td>1.5</td>\n",
       "      <td>0.5</td>\n",
       "      <td>685</td>\n",
       "    </tr>\n",
       "    <tr>\n",
       "      <th>143</th>\n",
       "      <td>144</td>\n",
       "      <td>Junior Software Engineer</td>\n",
       "      <td>Python</td>\n",
       "      <td>1</td>\n",
       "      <td>1</td>\n",
       "      <td>750</td>\n",
       "      <td>250</td>\n",
       "      <td>Киев</td>\n",
       "      <td>до 10 человек</td>\n",
       "      <td>Аутсорсинговая</td>\n",
       "      <td>мужской</td>\n",
       "      <td>21</td>\n",
       "      <td>Незаконченное высшее</td>\n",
       "      <td>True</td>\n",
       "      <td>выше среднего</td>\n",
       "      <td>12/06/2017 13:19:10</td>\n",
       "      <td>Mozilla/5.0 (X11; Linux x86_64) AppleWebKit/53...</td>\n",
       "      <td>1.0</td>\n",
       "      <td>1.0</td>\n",
       "      <td>750</td>\n",
       "    </tr>\n",
       "  </tbody>\n",
       "</table>\n",
       "</div>"
      ],
      "text/plain": [
       "       N                 Должность Язык.программирования Общий.опыт.работы  \\\n",
       "12    13         Software Engineer                Python                 1   \n",
       "68    69         Software Engineer                Python               1.5   \n",
       "87    88  Junior Software Engineer                Python               0.5   \n",
       "114  115  Junior Software Engineer                Python               1.5   \n",
       "143  144  Junior Software Engineer                Python                 1   \n",
       "\n",
       "    Опыт.работы.на.текущем.месте  Зарплата.в.месяц  \\\n",
       "12              меньше 3 месяцев               800   \n",
       "68                           0.5               900   \n",
       "87                           0.5               600   \n",
       "114                          0.5               685   \n",
       "143                            1               750   \n",
       "\n",
       "     Изменение.зарплаты.за.12.месяцев Город  Размер.компании    Тип.компании  \\\n",
       "12                                200  Киев    до 50 человек  Аутсорсинговая   \n",
       "68                                900  Киев    до 10 человек         Стартап   \n",
       "87                                  0  Киев    до 10 человек  Аутсорсинговая   \n",
       "114                               250  Киев  до 1000 человек  Аутсорсинговая   \n",
       "143                               250  Киев    до 10 человек  Аутсорсинговая   \n",
       "\n",
       "         Пол  Возраст           Образование  Еще.студент Уровень.английского  \\\n",
       "12   мужской       26                Высшее        False       ниже среднего   \n",
       "68   мужской       21  Незаконченное высшее         True       выше среднего   \n",
       "87   мужской       19  Незаконченное высшее         True       выше среднего   \n",
       "114  мужской       21  Незаконченное высшее        False             средний   \n",
       "143  мужской       21  Незаконченное высшее         True       выше среднего   \n",
       "\n",
       "         Дата.заполнения                                         User.Agent  \\\n",
       "12   12/06/2017 13:05:54  Mozilla/5.0 (Windows NT 6.1; Win64; x64) Apple...   \n",
       "68   12/06/2017 13:11:17  Mozilla/5.0 (Windows NT 10.0; Win64; x64) Appl...   \n",
       "87   12/06/2017 13:12:25  Mozilla/5.0 (X11; Linux x86_64) AppleWebKit/53...   \n",
       "114  12/06/2017 13:14:52  Mozilla/5.0 (X11; Linux x86_64) AppleWebKit/53...   \n",
       "143  12/06/2017 13:19:10  Mozilla/5.0 (X11; Linux x86_64) AppleWebKit/53...   \n",
       "\n",
       "     exp  current_job_exp  salary  \n",
       "12   1.0              0.0     800  \n",
       "68   1.5              0.5     900  \n",
       "87   0.5              0.5     600  \n",
       "114  1.5              0.5     685  \n",
       "143  1.0              1.0     750  "
      ]
     },
     "execution_count": 10,
     "metadata": {},
     "output_type": "execute_result"
    }
   ],
   "source": [
    "python_data = file_data.loc[file_data['Язык.программирования'] == 'Python']\n",
    "python_data.head()"
   ]
  },
  {
   "cell_type": "markdown",
   "id": "4772d227",
   "metadata": {},
   "source": [
    "* Визначте розмір таблиці python_data за допомогою методу shape"
   ]
  },
  {
   "cell_type": "code",
   "execution_count": 11,
   "id": "eafb3a7d",
   "metadata": {},
   "outputs": [
    {
     "name": "stdout",
     "output_type": "stream",
     "text": [
      "Result: 207 rows x 20 columns\n"
     ]
    }
   ],
   "source": [
    "print(f\"Result: {python_data.shape[0]} rows x {python_data.shape[1]} columns\")"
   ]
  },
  {
   "cell_type": "markdown",
   "id": "64f89fa9",
   "metadata": {},
   "source": [
    "* Використовуючи метод groupby, виконайте групування за стовпчиком \"Посада\""
   ]
  },
  {
   "cell_type": "code",
   "execution_count": 12,
   "id": "8ec3c1b8",
   "metadata": {},
   "outputs": [
    {
     "name": "stdout",
     "output_type": "stream",
     "text": [
      "<class 'pandas.core.groupby.generic.DataFrameGroupBy'>\n",
      "\n",
      "['Junior Software Engineer' 'Senior Software Engineer' 'Software Engineer'\n",
      " 'System Architect' 'Technical Lead']\n",
      "\n",
      "Junior Software Engineer\n",
      "Senior Software Engineer\n",
      "Software Engineer\n",
      "System Architect\n",
      "Technical Lead\n"
     ]
    }
   ],
   "source": [
    "groupby_job_title = python_data.groupby(by=\"Должность\")\n",
    "print(type(groupby_job_title))\n",
    "print(f\"\\n{np.sort(python_data['Должность'].unique())}\\n\")    \n",
    "\n",
    "for item in groupby_job_title:\n",
    "    print(item[0])"
   ]
  },
  {
   "cell_type": "markdown",
   "id": "b3d058cb",
   "metadata": {},
   "source": [
    "* Створіть новий DataFrame, де для згрупованих даних за стовпчиком \"Посада\", виконайте агрегацію даних за допомогою методу agg і знайдіть мінімальне та максимальне значення у стовпчику \"Зарплата.в.місяць\""
   ]
  },
  {
   "cell_type": "code",
   "execution_count": 13,
   "id": "d84fadcb",
   "metadata": {},
   "outputs": [
    {
     "data": {
      "text/html": [
       "<div>\n",
       "<style scoped>\n",
       "    .dataframe tbody tr th:only-of-type {\n",
       "        vertical-align: middle;\n",
       "    }\n",
       "\n",
       "    .dataframe tbody tr th {\n",
       "        vertical-align: top;\n",
       "    }\n",
       "\n",
       "    .dataframe thead tr th {\n",
       "        text-align: left;\n",
       "    }\n",
       "\n",
       "    .dataframe thead tr:last-of-type th {\n",
       "        text-align: right;\n",
       "    }\n",
       "</style>\n",
       "<table border=\"1\" class=\"dataframe\">\n",
       "  <thead>\n",
       "    <tr>\n",
       "      <th></th>\n",
       "      <th colspan=\"2\" halign=\"left\">Зарплата.в.месяц</th>\n",
       "    </tr>\n",
       "    <tr>\n",
       "      <th></th>\n",
       "      <th>min</th>\n",
       "      <th>max</th>\n",
       "    </tr>\n",
       "    <tr>\n",
       "      <th>Должность</th>\n",
       "      <th></th>\n",
       "      <th></th>\n",
       "    </tr>\n",
       "  </thead>\n",
       "  <tbody>\n",
       "    <tr>\n",
       "      <th>Junior Software Engineer</th>\n",
       "      <td>100</td>\n",
       "      <td>1250</td>\n",
       "    </tr>\n",
       "    <tr>\n",
       "      <th>Senior Software Engineer</th>\n",
       "      <td>1300</td>\n",
       "      <td>9200</td>\n",
       "    </tr>\n",
       "    <tr>\n",
       "      <th>Software Engineer</th>\n",
       "      <td>500</td>\n",
       "      <td>5400</td>\n",
       "    </tr>\n",
       "    <tr>\n",
       "      <th>System Architect</th>\n",
       "      <td>3000</td>\n",
       "      <td>5000</td>\n",
       "    </tr>\n",
       "    <tr>\n",
       "      <th>Technical Lead</th>\n",
       "      <td>1425</td>\n",
       "      <td>6200</td>\n",
       "    </tr>\n",
       "  </tbody>\n",
       "</table>\n",
       "</div>"
      ],
      "text/plain": [
       "                         Зарплата.в.месяц      \n",
       "                                      min   max\n",
       "Должность                                      \n",
       "Junior Software Engineer              100  1250\n",
       "Senior Software Engineer             1300  9200\n",
       "Software Engineer                     500  5400\n",
       "System Architect                     3000  5000\n",
       "Technical Lead                       1425  6200"
      ]
     },
     "execution_count": 13,
     "metadata": {},
     "output_type": "execute_result"
    }
   ],
   "source": [
    "agg_data = groupby_job_title.agg({\"Зарплата.в.месяц\": [\"min\", \"max\"]})\n",
    "agg_data"
   ]
  },
  {
   "cell_type": "markdown",
   "id": "0ce5602a",
   "metadata": {},
   "source": [
    "* Створіть функцію fill_avg_salary, яка повертатиме середнє значення заробітної плати на місяць. Використовуйте її для методу apply та створіть новий стовпчик \"avg\""
   ]
  },
  {
   "cell_type": "code",
   "execution_count": 14,
   "id": "5ab53005",
   "metadata": {},
   "outputs": [
    {
     "data": {
      "text/html": [
       "<div>\n",
       "<style scoped>\n",
       "    .dataframe tbody tr th:only-of-type {\n",
       "        vertical-align: middle;\n",
       "    }\n",
       "\n",
       "    .dataframe tbody tr th {\n",
       "        vertical-align: top;\n",
       "    }\n",
       "\n",
       "    .dataframe thead th {\n",
       "        text-align: right;\n",
       "    }\n",
       "</style>\n",
       "<table border=\"1\" class=\"dataframe\">\n",
       "  <thead>\n",
       "    <tr style=\"text-align: right;\">\n",
       "      <th></th>\n",
       "      <th>Посада</th>\n",
       "      <th>Мін.зпт</th>\n",
       "      <th>Макс.зпт</th>\n",
       "      <th>Середня.зпт</th>\n",
       "    </tr>\n",
       "  </thead>\n",
       "  <tbody>\n",
       "    <tr>\n",
       "      <th>0</th>\n",
       "      <td>Junior Software Engineer</td>\n",
       "      <td>100</td>\n",
       "      <td>1250</td>\n",
       "      <td>675.0</td>\n",
       "    </tr>\n",
       "    <tr>\n",
       "      <th>1</th>\n",
       "      <td>Senior Software Engineer</td>\n",
       "      <td>1300</td>\n",
       "      <td>9200</td>\n",
       "      <td>5250.0</td>\n",
       "    </tr>\n",
       "    <tr>\n",
       "      <th>2</th>\n",
       "      <td>Software Engineer</td>\n",
       "      <td>500</td>\n",
       "      <td>5400</td>\n",
       "      <td>2950.0</td>\n",
       "    </tr>\n",
       "    <tr>\n",
       "      <th>3</th>\n",
       "      <td>System Architect</td>\n",
       "      <td>3000</td>\n",
       "      <td>5000</td>\n",
       "      <td>4000.0</td>\n",
       "    </tr>\n",
       "    <tr>\n",
       "      <th>4</th>\n",
       "      <td>Technical Lead</td>\n",
       "      <td>1425</td>\n",
       "      <td>6200</td>\n",
       "      <td>3812.5</td>\n",
       "    </tr>\n",
       "  </tbody>\n",
       "</table>\n",
       "</div>"
      ],
      "text/plain": [
       "                     Посада  Мін.зпт  Макс.зпт  Середня.зпт\n",
       "0  Junior Software Engineer      100      1250        675.0\n",
       "1  Senior Software Engineer     1300      9200       5250.0\n",
       "2         Software Engineer      500      5400       2950.0\n",
       "3          System Architect     3000      5000       4000.0\n",
       "4            Technical Lead     1425      6200       3812.5"
      ]
     },
     "execution_count": 14,
     "metadata": {},
     "output_type": "execute_result"
    }
   ],
   "source": [
    "def fill_avg_salary(salary):\n",
    "    return salary.mean()\n",
    "\n",
    "agg_data[\"avg\"] = agg_data.apply(fill_avg_salary, axis=1)\n",
    "\n",
    "# щоб не було кривих заголовків стовпців\n",
    "agg_data = agg_data.reset_index()  \n",
    "agg_data.columns = [\"Посада\", \"Мін.зпт\", \"Макс.зпт\", \"Середня.зпт\"]\n",
    "agg_data"
   ]
  },
  {
   "cell_type": "markdown",
   "id": "6db2e32c",
   "metadata": {},
   "source": [
    "* Створіть описову статистику за допомогою методу describe для нового стовпчика."
   ]
  },
  {
   "cell_type": "code",
   "execution_count": 15,
   "id": "1e428cdb",
   "metadata": {},
   "outputs": [
    {
     "data": {
      "text/plain": [
       "count       5.000000\n",
       "mean     3337.500000\n",
       "std      1700.091909\n",
       "min       675.000000\n",
       "25%      2950.000000\n",
       "50%      3812.500000\n",
       "75%      4000.000000\n",
       "max      5250.000000\n",
       "Name: Середня.зпт, dtype: float64"
      ]
     },
     "execution_count": 15,
     "metadata": {},
     "output_type": "execute_result"
    }
   ],
   "source": [
    "agg_data[\"Середня.зпт\"].describe()"
   ]
  },
  {
   "cell_type": "markdown",
   "id": "f925dc56",
   "metadata": {},
   "source": [
    "* Збережіть отриману таблицю в CSV файл"
   ]
  },
  {
   "cell_type": "code",
   "execution_count": 16,
   "id": "96b97b6d",
   "metadata": {},
   "outputs": [
    {
     "data": {
      "text/html": [
       "<div>\n",
       "<style scoped>\n",
       "    .dataframe tbody tr th:only-of-type {\n",
       "        vertical-align: middle;\n",
       "    }\n",
       "\n",
       "    .dataframe tbody tr th {\n",
       "        vertical-align: top;\n",
       "    }\n",
       "\n",
       "    .dataframe thead th {\n",
       "        text-align: right;\n",
       "    }\n",
       "</style>\n",
       "<table border=\"1\" class=\"dataframe\">\n",
       "  <thead>\n",
       "    <tr style=\"text-align: right;\">\n",
       "      <th></th>\n",
       "      <th>Посада</th>\n",
       "      <th>Мін.зпт</th>\n",
       "      <th>Макс.зпт</th>\n",
       "      <th>Середня.зпт</th>\n",
       "    </tr>\n",
       "  </thead>\n",
       "  <tbody>\n",
       "    <tr>\n",
       "      <th>0</th>\n",
       "      <td>Junior Software Engineer</td>\n",
       "      <td>100</td>\n",
       "      <td>1250</td>\n",
       "      <td>675.0</td>\n",
       "    </tr>\n",
       "    <tr>\n",
       "      <th>1</th>\n",
       "      <td>Senior Software Engineer</td>\n",
       "      <td>1300</td>\n",
       "      <td>9200</td>\n",
       "      <td>5250.0</td>\n",
       "    </tr>\n",
       "    <tr>\n",
       "      <th>2</th>\n",
       "      <td>Software Engineer</td>\n",
       "      <td>500</td>\n",
       "      <td>5400</td>\n",
       "      <td>2950.0</td>\n",
       "    </tr>\n",
       "    <tr>\n",
       "      <th>3</th>\n",
       "      <td>System Architect</td>\n",
       "      <td>3000</td>\n",
       "      <td>5000</td>\n",
       "      <td>4000.0</td>\n",
       "    </tr>\n",
       "    <tr>\n",
       "      <th>4</th>\n",
       "      <td>Technical Lead</td>\n",
       "      <td>1425</td>\n",
       "      <td>6200</td>\n",
       "      <td>3812.5</td>\n",
       "    </tr>\n",
       "  </tbody>\n",
       "</table>\n",
       "</div>"
      ],
      "text/plain": [
       "                     Посада  Мін.зпт  Макс.зпт  Середня.зпт\n",
       "0  Junior Software Engineer      100      1250        675.0\n",
       "1  Senior Software Engineer     1300      9200       5250.0\n",
       "2         Software Engineer      500      5400       2950.0\n",
       "3          System Architect     3000      5000       4000.0\n",
       "4            Technical Lead     1425      6200       3812.5"
      ]
     },
     "execution_count": 16,
     "metadata": {},
     "output_type": "execute_result"
    }
   ],
   "source": [
    "# тут можливо потрібно було збрегти табличку з describe, але вже не буду переписувати \n",
    "agg_data.to_csv(\"agg_data.csv\", index=False, encoding=\"utf-8-sig\")\n",
    "test_writing = pd.read_csv(\"agg_data.csv\")\n",
    "test_writing"
   ]
  },
  {
   "cell_type": "code",
   "execution_count": 17,
   "id": "1fcf16c6",
   "metadata": {},
   "outputs": [
    {
     "data": {
      "image/png": "[encoded data removed]",
      "text/plain": [
       "<Figure size 800x300 with 1 Axes>"
      ]
     },
     "metadata": {},
     "output_type": "display_data"
    }
   ],
   "source": [
    "plot_data1 = agg_data.set_index(\"Посада\").copy()\n",
    "fig, ax = plt.subplots(figsize=(8, 3))\n",
    "plot_data1.plot(kind=\"barh\", ax=ax)\n",
    "ax.set_title(\"Зарплата по посадам\")\n",
    "ax.set_ylabel(\"\")\n",
    "ax.set_xlabel(\"Зарплата\");"
   ]
  },
  {
   "cell_type": "code",
   "execution_count": 18,
   "id": "97b98fd3",
   "metadata": {},
   "outputs": [
    {
     "data": {
      "image/png": "[encoded data removed]",
      "text/plain": [
       "<Figure size 1028.88x400 with 1 Axes>"
      ]
     },
     "metadata": {},
     "output_type": "display_data"
    }
   ],
   "source": [
    "plot_data2 = python_data.groupby(by=[\"Город\", \"Должность\"]).agg({\"Зарплата.в.месяц\": [\"mean\"]})\n",
    "plot_data2 = plot_data2.reset_index()  \n",
    "plot_data2.columns = [\"Місто\", \"Посада\", \"Середня.зпт\"]\n",
    "sns.set_theme()\n",
    "g = sns.relplot(\n",
    "    data=plot_data2, y=\"Місто\", x=\"Середня.зпт\",\n",
    "    hue=\"Посада\", height=4, aspect=8/4,\n",
    ")\n",
    "g.fig.suptitle(\"Середня зарплата по містам України\", fontsize=12)\n",
    "g.fig.subplots_adjust(top=0.9);"
   ]
  },
  {
   "cell_type": "code",
   "execution_count": 19,
   "id": "8fa9e16e",
   "metadata": {},
   "outputs": [
    {
     "data": {
      "image/png": "[encoded data removed]",
      "text/plain": [
       "<Figure size 962.875x200 with 1 Axes>"
      ]
     },
     "metadata": {},
     "output_type": "display_data"
    }
   ],
   "source": [
    "plot_data3 = python_data.groupby(by=[\"Уровень.английского\", \"Должность\"]).agg({\"Зарплата.в.месяц\": [\"mean\"]})\n",
    "plot_data3 = plot_data3.reset_index()  \n",
    "plot_data3.columns = [\"Рівень.англійської\", \"Посада\", \"Середня.зпт\"]\n",
    "sns.set_style(\"whitegrid\")\n",
    "g = sns.relplot(\n",
    "    data=plot_data3, y=\"Посада\", x=\"Середня.зпт\",\n",
    "    hue=\"Рівень.англійської\", height=2, aspect=4,\n",
    ")\n",
    "g.fig.suptitle(\"Напевно зовсім нецікавий графік\", fontsize=12)\n",
    "g.fig.subplots_adjust(top=0.9);\n"
   ]
  },
  {
   "cell_type": "code",
   "execution_count": 20,
   "id": "a1a8ed6a",
   "metadata": {},
   "outputs": [
    {
     "data": {
      "image/png": "[encoded data removed]",
      "text/plain": [
       "<Figure size 800x300 with 1 Axes>"
      ]
     },
     "metadata": {},
     "output_type": "display_data"
    }
   ],
   "source": [
    "plot_data4 = python_data.query(\"Должность == 'Software Engineer' & Город == 'Киев'\").\\\n",
    "                         groupby(by=[\"Общий.опыт.работы\"])[\"Зарплата.в.месяц\"].mean().round(0)\n",
    "# plot_data4.drop(plot_data4.index  loc[\"10 и более лет\"], inplace=True)\n",
    "plot_data4.drop(labels = [\"10 и более лет\"], inplace=True) \n",
    "fig, ax = plt.subplots(figsize=(8, 3))\n",
    "plot_data4.plot(kind=\"bar\", ax=ax)\n",
    "ax.set_title(\"Середня зарплата Software Engineer в Києві\")\n",
    "ax.set_ylabel(\"Зарплата\")\n",
    "ax.set_xlabel(\"Досвід роботи\");"
   ]
  }
 ],
 "metadata": {
  "kernelspec": {
   "display_name": "Python 3 (ipykernel)",
   "language": "python",
   "name": "python3"
  },
  "language_info": {
   "codemirror_mode": {
    "name": "ipython",
    "version": 3
   },
   "file_extension": ".py",
   "mimetype": "text/x-python",
   "name": "python",
   "nbconvert_exporter": "python",
   "pygments_lexer": "ipython3",
   "version": "3.10.8"
  }
 },
 "nbformat": 4,
 "nbformat_minor": 5
}

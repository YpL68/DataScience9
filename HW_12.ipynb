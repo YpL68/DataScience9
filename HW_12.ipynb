{
 "cells": [
  {
   "cell_type": "code",
   "execution_count": 1,
   "id": "3b1dca33",
   "metadata": {},
   "outputs": [],
   "source": [
    "import numpy as np\n",
    "\n",
    "from heapq import nlargest\n",
    "\n",
    "import nltk\n",
    "from nltk.corpus import stopwords\n",
    "from nltk.tokenize import word_tokenize, sent_tokenize\n",
    "\n",
    "import spacy\n",
    "from spacy.lang.en.stop_words import STOP_WORDS\n",
    "\n",
    "from string import punctuation"
   ]
  },
  {
   "cell_type": "markdown",
   "id": "d6780522",
   "metadata": {},
   "source": [
    "## ДЗ ##\n",
    "\n",
    "__Зробіть summary нижчевказаного тексту використовуючи бібліотеки для NLP: nltk та SpaCy__"
   ]
  },
  {
   "cell_type": "code",
   "execution_count": 2,
   "id": "bf0b6357",
   "metadata": {},
   "outputs": [],
   "source": [
    "text = \"The Orbiter Discovery, OV-103, is considered eligible for listing in the National Register of Historic Places (NRHP) in the context of the U.S. Space Shuttle Program (1969-2011) under Criterion A in the areas of Space Exploration and Transportation and under Criterion C in the area of Engineering. Because it has achieved significance within the past fifty years, Criteria Consideration G applies. Under Criterion A, Discovery is significant as the oldest of the three extant orbiter vehicles constructed for the Space Shuttle Program (SSP), the longest running American space program to date; she was the third of five orbiters built by NASA. Unlike the Mercury, Gemini, and Apollo programs, the SSP’s emphasis was on cost effectiveness and reusability, and eventually the construction of a space station. Including her maiden voyage (launched August 30, 1984), Discovery flew to space thirty-nine times, more than any of the other four orbiters; she was also the first orbiter to fly twenty missions. She had the honor of being chosen as the Return to Flight vehicle after both the Challenger and Columbia accidents. Discovery was the first shuttle to fly with the redesigned SRBs, a result of the Challenger accident, and the first shuttle to fly with the Phase II and Block I SSME. Discovery also carried the Hubble Space Telescope to orbit and performed two of the five servicing missions to the observatory. She flew the first and last dedicated Department of Defense (DoD) missions, as well as the first unclassified defense-related mission. In addition, Discovery was vital to the construction of the International Space Station (ISS); she flew thirteen of the thirty-seven total missions flown to the station by a U.S. Space Shuttle. She was the first orbiter to dock to the ISS, and the first to perform an exchange of a resident crew. Under Criterion C, Discovery is significant as a feat of engineering. According to Wayne Hale, a flight director from Johnson Space Center, the Space Shuttle orbiter represents a “huge technological leap from expendable rockets and capsules to a reusable, winged, hypersonic, cargo-carrying spacecraft.” Although her base structure followed a conventional aircraft design, she used advanced materials that both minimized her weight for cargo-carrying purposes and featured low thermal expansion ratios, which provided a stable base for her Thermal Protection System (TPS) materials. The Space Shuttle orbiter also featured the first reusable TPS; all previous spaceflight vehicles had a single-use, ablative heat shield. Other notable engineering achievements of the orbiter included the first reusable orbital propulsion system, and the first two-fault-tolerant Integrated Avionics System. As Hale stated, the Space Shuttle remains “the largest, fastest, winged hypersonic aircraft in history,” having regularly flown at twenty-five times the speed of sound.\""
   ]
  },
  {
   "cell_type": "markdown",
   "id": "f393dd1b",
   "metadata": {},
   "source": [
    "### __Декілька функцій__ ###"
   ]
  },
  {
   "cell_type": "code",
   "execution_count": 3,
   "id": "5c5a9b82",
   "metadata": {},
   "outputs": [],
   "source": [
    "def freq_of_word(words:list) -> dict:\n",
    "    freq_of_word={}\n",
    "    for word in words:\n",
    "        freq_of_word[word] = freq_of_word.get(word, 0) + 1\n",
    "\n",
    "    max_freq=max(freq_of_word.values())\n",
    "\n",
    "    return {key: value/max_freq for key, value in freq_of_word.items()}  \n",
    "\n",
    "\n",
    "def sent_scores(sent_tokens: list, freq_of_word: dict, core: str) -> dict:\n",
    "    sent_scores = {}\n",
    "    for sent in sent_tokens:\n",
    "        if core == \"ntlk\":\n",
    "            for word in word_tokenize(sent):\n",
    "                word = word.lower()\n",
    "                if word in freq_of_word.keys():\n",
    "                    sent_scores[sent] = sent_scores.get(sent, 0) + freq_of_word[word] \n",
    "        elif core == \"spacy\":  \n",
    "            key_str = str(sent)\n",
    "            for word in sent:\n",
    "                word = word.text.lower()\n",
    "                if word in freq_of_word.keys():\n",
    "                    sent_scores[key_str] = sent_scores.get(key_str, 0) + freq_of_word[word]            \n",
    "    return sent_scores  \n",
    "\n",
    "\n",
    "def calc_summary(sent_scores: dict, percentage: int = 30):\n",
    "    len_summary = int(len(sent_scores.values()) * percentage / 100.)\n",
    "    summary = nlargest(len_summary, sent_scores, key=sent_scores.get)\n",
    "\n",
    "    final_summary = [sent for sent in summary]\n",
    "    summary = \" \".join(final_summary)\n",
    "    \n",
    "    return summary"
   ]
  },
  {
   "cell_type": "markdown",
   "id": "8d19ecbf",
   "metadata": {},
   "source": [
    "### __Роботу буду виконувати паралельно для обох бібліотек, порівнюючи результати.__ ###"
   ]
  },
  {
   "cell_type": "markdown",
   "id": "a22a571c",
   "metadata": {},
   "source": [
    "__Завантаження необхідних данних__"
   ]
  },
  {
   "cell_type": "code",
   "execution_count": 4,
   "id": "345b3c0b",
   "metadata": {},
   "outputs": [],
   "source": [
    "nltk.download(\"stopwords\", quiet=True)\n",
    "nlp = spacy.load(\"en_core_web_lg\")"
   ]
  },
  {
   "cell_type": "markdown",
   "id": "5aa3aeaa",
   "metadata": {},
   "source": [
    "__Формування списків стоп-слів__"
   ]
  },
  {
   "cell_type": "code",
   "execution_count": 5,
   "id": "aaaa0142",
   "metadata": {},
   "outputs": [
    {
     "name": "stdout",
     "output_type": "stream",
     "text": [
      "179 326\n"
     ]
    }
   ],
   "source": [
    "ignored_tokens_ntlk = stopwords.words(\"english\")\n",
    "ignored_tokens_spacy = list(STOP_WORDS)\n",
    "\n",
    "print(len(ignored_tokens_ntlk), len(ignored_tokens_spacy))"
   ]
  },
  {
   "cell_type": "markdown",
   "id": "5916bf1b",
   "metadata": {},
   "source": [
    "Список для spacy майже в 2 рази більший."
   ]
  },
  {
   "cell_type": "markdown",
   "id": "d7bc32a9",
   "metadata": {},
   "source": [
    "__Кількість загальних стоп-слів__"
   ]
  },
  {
   "cell_type": "code",
   "execution_count": 6,
   "id": "1af7d2de",
   "metadata": {},
   "outputs": [
    {
     "data": {
      "text/plain": [
       "123"
      ]
     },
     "execution_count": 6,
     "metadata": {},
     "output_type": "execute_result"
    }
   ],
   "source": [
    "common_tokens = set(ignored_tokens_spacy) & set(ignored_tokens_ntlk)\n",
    "len(common_tokens)"
   ]
  },
  {
   "cell_type": "markdown",
   "id": "728c7538",
   "metadata": {},
   "source": [
    "__Що ж такого є в списку spacy та немає в ntlk__"
   ]
  },
  {
   "cell_type": "code",
   "execution_count": 7,
   "id": "15b908df",
   "metadata": {},
   "outputs": [
    {
     "data": {
      "text/plain": [
       "array(['latterly', 'often', 'made', 'though', 'still', 'due',\n",
       "       'whereafter', 'sometimes', '‘d', 'herein', 'part', 'although',\n",
       "       'behind', 'throughout', 'third', 'moreover', 'anyone', 'except',\n",
       "       'say', 'becoming', 'seems', 'one', 'beyond', 'quite', \"'d\", \"'ll\",\n",
       "       'namely', 'must', 'six', 'nine', 'anywhere', 'somewhere',\n",
       "       'seeming', 'anyway', 'mostly', 'otherwise', '’ll', 'neither',\n",
       "       'whoever', 'indeed', 'thru', \"'m\", 'hence', 'whenever', 'three',\n",
       "       'show', 'twelve', 'formerly', 'ever', '‘ve', 'along', 'two',\n",
       "       'whereby', 'seemed', 'afterwards', 'former', 'without', 'onto',\n",
       "       'rather', 'last', 'whose', 'yet', '’s', '‘re', 'take', 'hereafter',\n",
       "       'toward', 'alone', 'n’t', 'become', 'front', 'became', 'least',\n",
       "       'five', 'eight', 'whither', 'perhaps', 'n‘t', 'whence', 'twenty',\n",
       "       'beforehand', 'sixty', '’d', 'whatever', 'mine', 'move', 'within',\n",
       "       'seem', 'others', 'forty', 'would', 'thus', 'various', '‘s',\n",
       "       'everything', 'thence', 'several', 'put', 'since', 'using',\n",
       "       'cannot', 'besides', 'get', 'thereafter', 'first', 'everywhere',\n",
       "       'noone', 'may', 'wherein', 'already', 'ca', 'almost', 'back', 'go',\n",
       "       'therein', 'keep', 'whereas', 'via', 'everyone', 'per', '‘m',\n",
       "       'nevertheless', 'make', 'really', 'also', 'anything', 'done',\n",
       "       'among', 'ten', '’re', 'across', \"'s\", 'serious', 'regarding',\n",
       "       'whole', 'together', 'could', 'even', 'see', 'beside', 'unless',\n",
       "       'four', 'thereupon', 'always', 'towards', 'elsewhere', 'anyhow',\n",
       "       'give', 'us', 'next', 'either', '’ve', 'might', 'somehow', \"'ve\",\n",
       "       'thereby', 'side', 'fifteen', 'however', 'eleven', 'less',\n",
       "       'hereby', 'latter', 'else', 'empty', 'meanwhile', 'none', '‘ll',\n",
       "       'whether', 'around', 'enough', 'used', 'whereupon', 'sometime',\n",
       "       \"n't\", 'hundred', 'therefore', 'wherever', 'amongst', 'nowhere',\n",
       "       'bottom', 'nobody', 'never', 'someone', 'amount', 'well', 'every',\n",
       "       'please', 'nothing', 'top', 'fifty', 'something', 'call', 'much',\n",
       "       'another', 'becomes', 'name', 'many', \"'re\", 'hereupon', 'upon',\n",
       "       'full', '’m'], dtype='<U12')"
      ]
     },
     "execution_count": 7,
     "metadata": {},
     "output_type": "execute_result"
    }
   ],
   "source": [
    "np.array([token for token in ignored_tokens_spacy if token not in ignored_tokens_ntlk])"
   ]
  },
  {
   "cell_type": "code",
   "execution_count": 8,
   "id": "41c5d604",
   "metadata": {},
   "outputs": [
    {
     "data": {
      "text/plain": [
       "array([\"you're\", \"you've\", \"you'll\", \"you'd\", \"she's\", \"it's\", 'theirs',\n",
       "       \"that'll\", 'having', 's', 't', 'don', \"don't\", \"should've\", 'd',\n",
       "       'll', 'm', 'o', 've', 'y', 'ain', 'aren', \"aren't\", 'couldn',\n",
       "       \"couldn't\", 'didn', \"didn't\", 'doesn', \"doesn't\", 'hadn', \"hadn't\",\n",
       "       'hasn', \"hasn't\", 'haven', \"haven't\", 'isn', \"isn't\", 'ma',\n",
       "       'mightn', \"mightn't\", 'mustn', \"mustn't\", 'needn', \"needn't\",\n",
       "       'shan', \"shan't\", 'shouldn', \"shouldn't\", 'wasn', \"wasn't\",\n",
       "       'weren', \"weren't\", 'won', \"won't\", 'wouldn', \"wouldn't\"],\n",
       "      dtype='<U9')"
      ]
     },
     "execution_count": 8,
     "metadata": {},
     "output_type": "execute_result"
    }
   ],
   "source": [
    "# ну і навпаки\n",
    "np.array([token for token in ignored_tokens_ntlk if token not in ignored_tokens_spacy])"
   ]
  },
  {
   "cell_type": "markdown",
   "id": "27af24e2",
   "metadata": {},
   "source": [
    "Хто добре знає англійську скаже чи це добре чи ні. Я вивчав та вже забув німецьку."
   ]
  },
  {
   "cell_type": "markdown",
   "id": "d1e89226",
   "metadata": {},
   "source": [
    "__Скомпоную списки стоп-слів з пунктуацією__"
   ]
  },
  {
   "cell_type": "code",
   "execution_count": 9,
   "id": "4db98d4e",
   "metadata": {},
   "outputs": [],
   "source": [
    "ignored_tokens_ntlk += list(punctuation + '\\n')\n",
    "ignored_tokens_spacy += list(punctuation + '\\n')"
   ]
  },
  {
   "cell_type": "code",
   "execution_count": 10,
   "id": "d63b22fa",
   "metadata": {},
   "outputs": [
    {
     "data": {
      "text/plain": [
       "array([\"mightn't\", 'mustn', \"mustn't\", 'needn', \"needn't\", 'shan',\n",
       "       \"shan't\", 'shouldn', \"shouldn't\", 'wasn', \"wasn't\", 'weren',\n",
       "       \"weren't\", 'won', \"won't\", 'wouldn', \"wouldn't\", '!', '\"', '#',\n",
       "       '$', '%', '&', \"'\", '(', ')', '*', '+', ',', '-', '.', '/', ':',\n",
       "       ';', '<', '=', '>', '?', '@', '[', '\\\\', ']', '^', '_', '`', '{',\n",
       "       '|', '}', '~', '\\n'], dtype='<U10')"
      ]
     },
     "execution_count": 10,
     "metadata": {},
     "output_type": "execute_result"
    }
   ],
   "source": [
    "np.array(ignored_tokens_ntlk)[-50:]"
   ]
  },
  {
   "cell_type": "markdown",
   "id": "9de68681",
   "metadata": {},
   "source": [
    "__Токенізація з очищенням від стоп-слів та пунктуації__"
   ]
  },
  {
   "cell_type": "code",
   "execution_count": 11,
   "id": "53185966",
   "metadata": {},
   "outputs": [
    {
     "name": "stdout",
     "output_type": "stream",
     "text": [
      "279 259\n"
     ]
    }
   ],
   "source": [
    "tokens_ntlk = word_tokenize(text)\n",
    "words_ntlk = [token.lower() for token in tokens_ntlk if token.lower() not in ignored_tokens_ntlk]\n",
    "\n",
    "doc = nlp(text)\n",
    "words_spacy = [token.text.lower() for token in doc if token.text.lower() not in ignored_tokens_spacy]\n",
    "print(len(words_ntlk), len(words_spacy))"
   ]
  },
  {
   "cell_type": "markdown",
   "id": "7befbbca",
   "metadata": {},
   "source": [
    "__Порахуємо вагу кожного токену пропорційно частоти появи його в тексті__"
   ]
  },
  {
   "cell_type": "code",
   "execution_count": 12,
   "id": "c0030702",
   "metadata": {},
   "outputs": [
    {
     "data": {
      "text/plain": [
       "[('space', 1.0),\n",
       " ('first', 0.7692307692307693),\n",
       " ('shuttle', 0.6153846153846154),\n",
       " ('orbiter', 0.5384615384615384),\n",
       " ('discovery', 0.5384615384615384),\n",
       " ('criterion', 0.3076923076923077),\n",
       " ('missions', 0.3076923076923077),\n",
       " ('program', 0.23076923076923078),\n",
       " ('engineering', 0.23076923076923078),\n",
       " ('station', 0.23076923076923078)]"
      ]
     },
     "execution_count": 12,
     "metadata": {},
     "output_type": "execute_result"
    }
   ],
   "source": [
    "freq_of_word_ntlk = freq_of_word(words_ntlk)\n",
    "freq_of_word_ntlk_sorted = dict(sorted(freq_of_word_ntlk.items(), key=lambda x: x[1], reverse=True))\n",
    "\n",
    "[(key, value) for key, value in freq_of_word_ntlk_sorted.items()][:10]"
   ]
  },
  {
   "cell_type": "code",
   "execution_count": 14,
   "id": "be066af0",
   "metadata": {},
   "outputs": [
    {
     "data": {
      "text/plain": [
       "[('space', 1.0),\n",
       " ('shuttle', 0.6153846153846154),\n",
       " ('orbiter', 0.5384615384615384),\n",
       " ('discovery', 0.5384615384615384),\n",
       " ('criterion', 0.3076923076923077),\n",
       " ('missions', 0.3076923076923077),\n",
       " ('program', 0.23076923076923078),\n",
       " ('engineering', 0.23076923076923078),\n",
       " ('station', 0.23076923076923078),\n",
       " ('flew', 0.23076923076923078)]"
      ]
     },
     "execution_count": 14,
     "metadata": {},
     "output_type": "execute_result"
    }
   ],
   "source": [
    "freq_of_word_spacy = freq_of_word(words_spacy)\n",
    "freq_of_word_spacy_sorted = dict(sorted(freq_of_word_spacy.items(), key=lambda x: x[1], reverse=True))\n",
    "\n",
    "[(key, value) for key, value in freq_of_word_spacy_sorted.items()][:10]"
   ]
  },
  {
   "cell_type": "markdown",
   "id": "f363d368",
   "metadata": {},
   "source": [
    "__Розіб'ємо текст на речення__"
   ]
  },
  {
   "cell_type": "code",
   "execution_count": 15,
   "id": "b3a0f0d9",
   "metadata": {},
   "outputs": [
    {
     "name": "stdout",
     "output_type": "stream",
     "text": [
      "16 17\n"
     ]
    }
   ],
   "source": [
    "sent_tokens_ntlk = sent_tokenize(text)\n",
    "sent_tokens_spacy = list(doc.sents)\n",
    "print(len(sent_tokens_ntlk), len(sent_tokens_spacy))"
   ]
  },
  {
   "cell_type": "markdown",
   "id": "5cb63021",
   "metadata": {},
   "source": [
    "Бібліотеки відпрацювали по різному і це скажеться на кінцевому результату."
   ]
  },
  {
   "cell_type": "code",
   "execution_count": 16,
   "id": "23fab653",
   "metadata": {},
   "outputs": [
    {
     "name": "stdout",
     "output_type": "stream",
     "text": [
      "According to Wayne Hale, a flight director from Johnson Space Center, the Space Shuttle orbiter represents a “huge technological leap from expendable rockets and capsules to a reusable, winged, hypersonic, cargo-carrying spacecraft.”\n",
      "----------------------------------------------------------------------------------------------------\n",
      "Although her base structure followed a conventional aircraft design, she used advanced materials that both minimized her weight for cargo-carrying purposes and featured low thermal expansion ratios, which provided a stable base for her Thermal Protection System (TPS) materials.\n",
      "----------------------------------------------------------------------------------------------------\n",
      "Number of sentences: 2\n"
     ]
    }
   ],
   "source": [
    "dif_sent_1 = [sent for sent in sent_tokens_spacy if str(sent) not in sent_tokens_ntlk]\n",
    "for sent in dif_sent_1:\n",
    "    print(sent)\n",
    "    print(100*'-')\n",
    "print(f\"Number of sentences: {len(dif_sent_1)}\")"
   ]
  },
  {
   "cell_type": "code",
   "execution_count": 17,
   "id": "b9a68cd4",
   "metadata": {},
   "outputs": [
    {
     "name": "stdout",
     "output_type": "stream",
     "text": [
      "According to Wayne Hale, a flight director from Johnson Space Center, the Space Shuttle orbiter represents a “huge technological leap from expendable rockets and capsules to a reusable, winged, hypersonic, cargo-carrying spacecraft.” Although her base structure followed a conventional aircraft design, she used advanced materials that both minimized her weight for cargo-carrying purposes and featured low thermal expansion ratios, which provided a stable base for her Thermal Protection System (TPS) materials.\n",
      "----------------------------------------------------------------------------------------------------\n",
      "Number of sentences: 1\n"
     ]
    }
   ],
   "source": [
    "dif_sent_2 = [sent for sent in sent_tokens_ntlk if sent not in [str(s) for s in sent_tokens_spacy]]\n",
    "for sent in dif_sent_2:\n",
    "    print(sent)\n",
    "    print(100*'-')\n",
    "print(f\"Number of sentences: {len(dif_sent_2)}\")"
   ]
  },
  {
   "cell_type": "markdown",
   "id": "8313baeb",
   "metadata": {},
   "source": [
    "Ntlk не змогла розділити вищенаведене речення на 2 і воно звичайно матиме більшу вагу при розрахунку summary"
   ]
  },
  {
   "cell_type": "markdown",
   "id": "348af1d2",
   "metadata": {},
   "source": [
    "__Розрахунок вагових коефіцієнтів для речень__"
   ]
  },
  {
   "cell_type": "code",
   "execution_count": 18,
   "id": "aa3c4591",
   "metadata": {},
   "outputs": [
    {
     "data": {
      "text/plain": [
       "{'According to Wayne Hale, a flight director from Johnson Space Center, the Space Shuttle orbiter represents a “huge technological leap from expendable rockets and capsules to a reusable, winged, hypersonic, cargo-carrying spacecraft.” Although her base structure followed a conventional aircraft design, she used advanced materials that both minimized her weight for cargo-carrying purposes and featured low thermal expansion ratios, which provided a stable base for her Thermal Protection System (TPS) materials.': 8.461538461538458,\n",
       " 'The Orbiter Discovery, OV-103, is considered eligible for listing in the National Register of Historic Places (NRHP) in the context of the U.S. Space Shuttle Program (1969-2011) under Criterion A in the areas of Space Exploration and Transportation and under Criterion C in the area of Engineering.': 6.23076923076923,\n",
       " 'Under Criterion A, Discovery is significant as the oldest of the three extant orbiter vehicles constructed for the Space Shuttle Program (SSP), the longest running American space program to date; she was the third of five orbiters built by NASA.': 6.076923076923076,\n",
       " 'In addition, Discovery was vital to the construction of the International Space Station (ISS); she flew thirteen of the thirty-seven total missions flown to the station by a U.S. Space Shuttle.': 5.230769230769232,\n",
       " 'Including her maiden voyage (launched August 30, 1984), Discovery flew to space thirty-nine times, more than any of the other four orbiters; she was also the first orbiter to fly twenty missions.': 4.923076923076923,\n",
       " 'Discovery was the first shuttle to fly with the redesigned SRBs, a result of the Challenger accident, and the first shuttle to fly with the Phase II and Block I SSME.': 4.538461538461537,\n",
       " 'The Space Shuttle orbiter also featured the first reusable TPS; all previous spaceflight vehicles had a single-use, ablative heat shield.': 4.307692307692307,\n",
       " 'Other notable engineering achievements of the orbiter included the first reusable orbital propulsion system, and the first two-fault-tolerant Integrated Avionics System.': 3.6153846153846163,\n",
       " 'As Hale stated, the Space Shuttle remains “the largest, fastest, winged hypersonic aircraft in history,” having regularly flown at twenty-five times the speed of sound.': 3.538461538461539,\n",
       " 'Discovery also carried the Hubble Space Telescope to orbit and performed two of the five servicing missions to the observatory.': 2.8461538461538463,\n",
       " 'She flew the first and last dedicated Department of Defense (DoD) missions, as well as the first unclassified defense-related mission.': 2.7692307692307696,\n",
       " 'She was the first orbiter to dock to the ISS, and the first to perform an exchange of a resident crew.': 2.615384615384616,\n",
       " 'Unlike the Mercury, Gemini, and Apollo programs, the SSP’s emphasis was on cost effectiveness and reusability, and eventually the construction of a space station.': 2.3846153846153846,\n",
       " 'Under Criterion C, Discovery is significant as a feat of engineering.': 1.4615384615384615,\n",
       " 'Because it has achieved significance within the past fifty years, Criteria Consideration G applies.': 0.7692307692307692,\n",
       " 'She had the honor of being chosen as the Return to Flight vehicle after both the Challenger and Columbia accidents.': 0.7692307692307692}"
      ]
     },
     "execution_count": 18,
     "metadata": {},
     "output_type": "execute_result"
    }
   ],
   "source": [
    "sent_scores_ntlk = sent_scores(sent_tokens_ntlk, freq_of_word_ntlk, \"ntlk\")\n",
    "sent_scores_ntlk_sorted = dict(sorted(sent_scores_ntlk.items(), key=lambda x: x[1], reverse=True))\n",
    "sent_scores_ntlk_sorted"
   ]
  },
  {
   "cell_type": "code",
   "execution_count": 19,
   "id": "d0061b7e",
   "metadata": {},
   "outputs": [
    {
     "data": {
      "text/plain": [
       "{'The Orbiter Discovery, OV-103, is considered eligible for listing in the National Register of Historic Places (NRHP) in the context of the U.S. Space Shuttle Program (1969-2011) under Criterion A in the areas of Space Exploration and Transportation and under Criterion C in the area of Engineering.': 6.307692307692307,\n",
       " 'Under Criterion A, Discovery is significant as the oldest of the three extant orbiter vehicles constructed for the Space Shuttle Program (SSP), the longest running American space program to date; she was the third of five orbiters built by NASA.': 5.769230769230768,\n",
       " 'According to Wayne Hale, a flight director from Johnson Space Center, the Space Shuttle orbiter represents a “huge technological leap from expendable rockets and capsules to a reusable, winged, hypersonic, cargo-carrying spacecraft.”': 5.615384615384616,\n",
       " 'In addition, Discovery was vital to the construction of the International Space Station (ISS); she flew thirteen of the thirty-seven total missions flown to the station by a U.S. Space Shuttle.': 5.384615384615385,\n",
       " 'Including her maiden voyage (launched August 30, 1984), Discovery flew to space thirty-nine times, more than any of the other four orbiters; she was also the first orbiter to fly twenty missions.': 3.846153846153846,\n",
       " 'As Hale stated, the Space Shuttle remains “the largest, fastest, winged hypersonic aircraft in history,” having regularly flown at twenty-five times the speed of sound.': 3.538461538461539,\n",
       " 'The Space Shuttle orbiter also featured the first reusable TPS; all previous spaceflight vehicles had a single-use, ablative heat shield.': 3.3846153846153855,\n",
       " 'Discovery was the first shuttle to fly with the redesigned SRBs, a result of the Challenger accident, and the first shuttle to fly with the Phase II and Block I SSME.': 3.000000000000001,\n",
       " 'Although her base structure followed a conventional aircraft design, she used advanced materials that both minimized her weight for cargo-carrying purposes and featured low thermal expansion ratios, which provided a stable base for her Thermal Protection System (TPS) materials.': 2.9999999999999996,\n",
       " 'Discovery also carried the Hubble Space Telescope to orbit and performed two of the five servicing missions to the observatory.': 2.3846153846153846,\n",
       " 'Unlike the Mercury, Gemini, and Apollo programs, the SSP’s emphasis was on cost effectiveness and reusability, and eventually the construction of a space station.': 2.3076923076923075,\n",
       " 'Other notable engineering achievements of the orbiter included the first reusable orbital propulsion system, and the first two-fault-tolerant Integrated Avionics System.': 2.1538461538461537,\n",
       " 'Under Criterion C, Discovery is significant as a feat of engineering.': 1.4615384615384615,\n",
       " 'She flew the first and last dedicated Department of Defense (DoD) missions, as well as the first unclassified defense-related mission.': 1.3076923076923075,\n",
       " 'She was the first orbiter to dock to the ISS, and the first to perform an exchange of a resident crew.': 1.0769230769230769,\n",
       " 'She had the honor of being chosen as the Return to Flight vehicle after both the Challenger and Columbia accidents.': 0.7692307692307692,\n",
       " 'Because it has achieved significance within the past fifty years, Criteria Consideration G applies.': 0.6153846153846154}"
      ]
     },
     "execution_count": 19,
     "metadata": {},
     "output_type": "execute_result"
    }
   ],
   "source": [
    "sent_scores_spacy = sent_scores(sent_tokens_spacy, freq_of_word_spacy, \"spacy\")\n",
    "sent_scores_spacy_sorted = dict(sorted(sent_scores_spacy.items(), key=lambda x: x[1], reverse=True))\n",
    "sent_scores_spacy_sorted"
   ]
  },
  {
   "cell_type": "markdown",
   "id": "60cde967",
   "metadata": {},
   "source": [
    "__Розрахунок summary__"
   ]
  },
  {
   "cell_type": "markdown",
   "id": "96a2cac0",
   "metadata": {},
   "source": [
    "__SPACY__"
   ]
  },
  {
   "cell_type": "code",
   "execution_count": 20,
   "id": "2bb1f23a",
   "metadata": {},
   "outputs": [
    {
     "name": "stdout",
     "output_type": "stream",
     "text": [
      "The Orbiter Discovery, OV-103, is considered eligible for listing in the National Register of Historic Places (NRHP) in the context of the U.S. Space Shuttle Program (1969-2011) under Criterion A in the areas of Space Exploration and Transportation and under Criterion C in the area of Engineering. Under Criterion A, Discovery is significant as the oldest of the three extant orbiter vehicles constructed for the Space Shuttle Program (SSP), the longest running American space program to date; she was the third of five orbiters built by NASA. According to Wayne Hale, a flight director from Johnson Space Center, the Space Shuttle orbiter represents a “huge technological leap from expendable rockets and capsules to a reusable, winged, hypersonic, cargo-carrying spacecraft.” In addition, Discovery was vital to the construction of the International Space Station (ISS); she flew thirteen of the thirty-seven total missions flown to the station by a U.S. Space Shuttle.\n"
     ]
    }
   ],
   "source": [
    "print(calc_summary(sent_scores_spacy, 25))"
   ]
  },
  {
   "cell_type": "markdown",
   "id": "798117c4",
   "metadata": {},
   "source": [
    "__NTLK__"
   ]
  },
  {
   "cell_type": "code",
   "execution_count": 21,
   "id": "2862fe14",
   "metadata": {},
   "outputs": [
    {
     "name": "stdout",
     "output_type": "stream",
     "text": [
      "According to Wayne Hale, a flight director from Johnson Space Center, the Space Shuttle orbiter represents a “huge technological leap from expendable rockets and capsules to a reusable, winged, hypersonic, cargo-carrying spacecraft.” Although her base structure followed a conventional aircraft design, she used advanced materials that both minimized her weight for cargo-carrying purposes and featured low thermal expansion ratios, which provided a stable base for her Thermal Protection System (TPS) materials. The Orbiter Discovery, OV-103, is considered eligible for listing in the National Register of Historic Places (NRHP) in the context of the U.S. Space Shuttle Program (1969-2011) under Criterion A in the areas of Space Exploration and Transportation and under Criterion C in the area of Engineering. Under Criterion A, Discovery is significant as the oldest of the three extant orbiter vehicles constructed for the Space Shuttle Program (SSP), the longest running American space program to date; she was the third of five orbiters built by NASA. In addition, Discovery was vital to the construction of the International Space Station (ISS); she flew thirteen of the thirty-seven total missions flown to the station by a U.S. Space Shuttle.\n"
     ]
    }
   ],
   "source": [
    "print(calc_summary(sent_scores_ntlk, 25))"
   ]
  },
  {
   "cell_type": "markdown",
   "id": "96f4f755",
   "metadata": {},
   "source": [
    "## __Висновок__ ##"
   ]
  },
  {
   "cell_type": "markdown",
   "id": "37e0e55b",
   "metadata": {},
   "source": [
    "- обидві бібліотеки працюють дуже швидко, але мають, я сподіваюсь, некритичні відмінності в токенізації та виокремленні речень, що відображається на кінцевому результаті;\n",
    "- обидві бібліотеки можуть бути застосовані як базові для побудування більш складних систем, наприклад для анотації текстів;\n",
    "- препроцесінг тексту відіграє важливу роль та впливає на кінцевий результат."
   ]
  },
  {
   "cell_type": "code",
   "execution_count": null,
   "id": "a7ef542c",
   "metadata": {},
   "outputs": [],
   "source": []
  }
 ],
 "metadata": {
  "kernelspec": {
   "display_name": "Python 3 (ipykernel)",
   "language": "python",
   "name": "python3"
  },
  "language_info": {
   "codemirror_mode": {
    "name": "ipython",
    "version": 3
   },
   "file_extension": ".py",
   "mimetype": "text/x-python",
   "name": "python",
   "nbconvert_exporter": "python",
   "pygments_lexer": "ipython3",
   "version": "3.11.3"
  }
 },
 "nbformat": 4,
 "nbformat_minor": 5
}

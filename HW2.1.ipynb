{
 "cells": [
  {
   "cell_type": "code",
   "execution_count": 1,
   "id": "599259c1",
   "metadata": {},
   "outputs": [],
   "source": [
    "import numpy as np\n",
    "import pandas as pd"
   ]
  },
  {
   "cell_type": "markdown",
   "id": "1a4482e7",
   "metadata": {},
   "source": [
    "# Частина перша: Знайомство з Pandas."
   ]
  },
  {
   "cell_type": "markdown",
   "id": "797743b1",
   "metadata": {},
   "source": [
    "Прочитайте дані за допомогою методу read_html з таблиці \"Коефіцієнт народжуваності в регіонах України (1950—2019)\""
   ]
  },
  {
   "cell_type": "code",
   "execution_count": 2,
   "id": "3d1244df",
   "metadata": {},
   "outputs": [],
   "source": [
    "data_url = 'https://uk.wikipedia.org/wiki/%D0%9D%D0%B0%D1%81%D0%B5%D0%BB%D0%B5%D0%BD%D0%BD%D1%8F_' \\\n",
    "           '%D0%A3%D0%BA%D1%80%D0%B0%D1%97%D0%BD%D0%B8#%D0%9D%D0%B0%D1%80%D0%BE%D0%B4%D0%B6%D1%83' \\\n",
    "           '%D0%B2%D0%B0%D0%BD%D1%96%D1%81%D1%82%D1%8C'"
   ]
  },
  {
   "cell_type": "code",
   "execution_count": 3,
   "id": "d06aca4f",
   "metadata": {},
   "outputs": [],
   "source": [
    "try:\n",
    "    tables = pd.read_html(data_url, match=\"1950—2019\", thousands=None, decimal=\",\")\n",
    "    if len(tables) > 1:\n",
    "        raise ValueError(\"More than one table found\")\n",
    "    birth_table = tables[0]    \n",
    "except ValueError as err:\n",
    "    print(err)"
   ]
  },
  {
   "cell_type": "markdown",
   "id": "e2132668",
   "metadata": {},
   "source": [
    "* Вивести перші рядки таблиці за допомогою методу head"
   ]
  },
  {
   "cell_type": "code",
   "execution_count": 4,
   "id": "d965be3e",
   "metadata": {},
   "outputs": [
    {
     "name": "stdout",
     "output_type": "stream",
     "text": [
      "             Регіон  1950  1960  1970  1990  2000  2012  2014  2019\n",
      "0              Крим  23.0  20.6  16.0  13.0   7.3  12.6     —     —\n",
      "1         Вінницька  22.4  19.2  14.2  12.4   8.4  11.2  10.9   7.6\n",
      "2         Волинська  24.7  25.0  17.9  15.3  11.2  14.8  14.1  10.1\n",
      "3  Дніпропетровська  20.4  20.4  15.1  12.3   7.1  11.2  11.1   7.1\n",
      "4          Донецька  27.1  21.4  14.0  10.9   6.1   9.8   8.2     —\n"
     ]
    }
   ],
   "source": [
    "print(birth_table.head())"
   ]
  },
  {
   "cell_type": "markdown",
   "id": "174bb151",
   "metadata": {},
   "source": [
    "* Визначте кількість рядків та стовпців у датафреймі (атрибут shape)"
   ]
  },
  {
   "cell_type": "code",
   "execution_count": 5,
   "id": "6fa46a26",
   "metadata": {},
   "outputs": [
    {
     "name": "stdout",
     "output_type": "stream",
     "text": [
      "Number of all rows - 28\n",
      "Number of all columns - 9\n"
     ]
    }
   ],
   "source": [
    "rows_cols_num = birth_table.shape\n",
    "print(f\"Number of all rows - {rows_cols_num[0]}\")\n",
    "print(f\"Number of all columns - {rows_cols_num[1]}\")"
   ]
  },
  {
   "cell_type": "markdown",
   "id": "7ca986a1",
   "metadata": {},
   "source": [
    "* Замініть у таблиці значення \"—\" на значення NaN"
   ]
  },
  {
   "cell_type": "code",
   "execution_count": 6,
   "id": "f4de669f",
   "metadata": {},
   "outputs": [
    {
     "name": "stdout",
     "output_type": "stream",
     "text": [
      "The operation was successful\n",
      "               Регіон  1950  1960  1970  1990  2000  2012  2014  2019\n",
      "0                Крим  23.0  20.6  16.0  13.0   7.3  12.6   NaN   NaN\n",
      "1           Вінницька  22.4  19.2  14.2  12.4   8.4  11.2  10.9   7.6\n",
      "2           Волинська  24.7  25.0  17.9  15.3  11.2  14.8  14.1  10.1\n",
      "3    Дніпропетровська  20.4  20.4  15.1  12.3   7.1  11.2  11.1   7.1\n",
      "4            Донецька  27.1  21.4  14.0  10.9   6.1   9.8   8.2   NaN\n",
      "5         Житомирська  26.1  22.3  15.9  12.9   8.9  12.2  12.0   7.9\n",
      "6        Закарпатська  31.4  27.3  20.7  16.8  11.5  15.1  14.6  10.4\n",
      "7          Запорізька  21.9  19.7  15.0  12.4   7.1  10.6  10.6   6.8\n",
      "8   Івано-Франківська  24.3  24.8  18.2  15.5  10.3  12.4  12.2   8.8\n",
      "9            Київська  20.4  18.9  15.6  12.3   7.3  12.2  12.1   8.0\n",
      "10     Кіровоградська  21.6  17.1  14.5  12.6   7.9  11.0  10.8   6.8\n",
      "11          Луганська  26.2  23.5  14.4  11.6   6.2   9.6   5.1   NaN\n",
      "12          Львівська  23.4  24.0  17.1  14.0   9.1  11.9  11.9   8.7\n",
      "13       Миколаївська  21.1  19.4  15.5  13.7   8.0  11.5  11.2   7.1\n",
      "14            Одеська  24.1  19.2  14.8  12.6   8.0  12.7  12.3   8.8\n",
      "15         Полтавська  18.6  16.3  13.1  11.8   7.0   9.9  10.0   6.5\n",
      "16         Рівненська  26.9  26.7  19.3  15.8  11.8  15.9  14.8  10.7\n",
      "17            Сумська  21.6  18.4  13.2  11.5   7.0   9.7   9.2   6.0\n",
      "18      Тернопільська  21.3  21.6  15.7  14.2   9.2  11.3  10.9   7.6\n",
      "19         Харківська  19.7  17.3  14.0  11.4   6.8   9.9  10.1   6.8\n",
      "20         Херсонська  20.8  21.4  16.6  14.3   8.5  11.7  11.5   8.1\n",
      "21        Хмельницька  23.4  19.8  14.8  12.9   8.5  11.3  11.2   7.9\n",
      "22          Черкаська  20.5  17.9  14.4  12.3   7.5  10.0   9.8   6.4\n",
      "23        Чернівецька  24.7  21.8  17.0  14.8  10.1  12.8  12.9   9.2\n",
      "24       Чернігівська  22.0  18.3  12.7  10.8   6.9   9.4   9.0   6.1\n",
      "25               Київ   NaN  17.4  15.9  12.0   7.3  12.0  12.1  11.0\n",
      "26        Севастополь   NaN   NaN   NaN  12.5   7.0  12.0   NaN   NaN\n",
      "27            Україна  22.8  20.5  15.2  12.6   7.8  11.4  11.1   8.1\n"
     ]
    }
   ],
   "source": [
    "birth_table.replace(to_replace=\"—\", value=np.NaN, inplace=True)\n",
    "if birth_table.eq('—').sum().sum() == 0:  # type of sum result is numpy.int64\n",
    "    print(\"The operation was successful\")\n",
    "print(birth_table)   "
   ]
  },
  {
   "cell_type": "markdown",
   "id": "e54e16ef",
   "metadata": {},
   "source": [
    "* Визначте типи всіх стовпців за допомогою dataframe.dtypes"
   ]
  },
  {
   "cell_type": "code",
   "execution_count": 7,
   "id": "428d1828",
   "metadata": {},
   "outputs": [
    {
     "name": "stdout",
     "output_type": "stream",
     "text": [
      "Регіон     object\n",
      "1950      float64\n",
      "1960      float64\n",
      "1970      float64\n",
      "1990      float64\n",
      "2000      float64\n",
      "2012      float64\n",
      "2014       object\n",
      "2019       object\n",
      "dtype: object\n"
     ]
    }
   ],
   "source": [
    "print(birth_table.dtypes)"
   ]
  },
  {
   "cell_type": "markdown",
   "id": "05e352ec",
   "metadata": {},
   "source": [
    "* Замініть типи нечислових колонок на числові. Підказка - це колонки, де знаходився символ \"—\""
   ]
  },
  {
   "cell_type": "code",
   "execution_count": 8,
   "id": "9333973a",
   "metadata": {},
   "outputs": [
    {
     "name": "stdout",
     "output_type": "stream",
     "text": [
      "Регіон     object\n",
      "1950      float64\n",
      "1960      float64\n",
      "1970      float64\n",
      "1990      float64\n",
      "2000      float64\n",
      "2012      float64\n",
      "2014      float64\n",
      "2019      float64\n",
      "dtype: object\n"
     ]
    }
   ],
   "source": [
    "cols_for_type_change = [col for col in birth_table if birth_table[col].dtype == object][1:]\n",
    "if cols_for_type_change:\n",
    "    birth_table = birth_table.astype(dict.fromkeys(cols_for_type_change, np.float64))\n",
    "print(birth_table.dtypes)"
   ]
  },
  {
   "cell_type": "markdown",
   "id": "b24d9431",
   "metadata": {},
   "source": [
    "* Порахуйте, яка частка пропусків міститься в кожній колонці (використовуйте методи isnull та sum)"
   ]
  },
  {
   "cell_type": "code",
   "execution_count": 9,
   "id": "b53b9d85",
   "metadata": {},
   "outputs": [
    {
     "name": "stdout",
     "output_type": "stream",
     "text": [
      "Result in %:\n",
      "-------------------\n",
      "Регіон     0.000000\n",
      "1950       7.142857\n",
      "1960       3.571429\n",
      "1970       3.571429\n",
      "1990       0.000000\n",
      "2000       0.000000\n",
      "2012       0.000000\n",
      "2014       7.142857\n",
      "2019      14.285714\n",
      "dtype: float64\n"
     ]
    }
   ],
   "source": [
    "result = birth_table.isnull().sum(axis=0)/len(birth_table)*100  # in %\n",
    "print(f\"Result in %:\\n-------------------\\n{result}\")"
   ]
  },
  {
   "cell_type": "markdown",
   "id": "4564b348",
   "metadata": {},
   "source": [
    "* Видаліть з таблиці дані по всій країні, останній рядок таблиці"
   ]
  },
  {
   "cell_type": "code",
   "execution_count": 10,
   "id": "9773629c",
   "metadata": {},
   "outputs": [
    {
     "name": "stdout",
     "output_type": "stream",
     "text": [
      "         Регіон  1950  1960  1970  1990  2000  2012  2014  2019\n",
      "26  Севастополь   NaN   NaN   NaN  12.5   7.0  12.0   NaN   NaN\n"
     ]
    }
   ],
   "source": [
    "birth_table.drop(index=(len(birth_table)-1), inplace=True)\n",
    "print(birth_table.tail(n=1))"
   ]
  },
  {
   "cell_type": "markdown",
   "id": "9dc55e23",
   "metadata": {},
   "source": [
    "* Замініть відсутні дані в стовпцях середніми значеннями цих стовпців (метод fillna)"
   ]
  },
  {
   "cell_type": "code",
   "execution_count": 11,
   "id": "ef73309f",
   "metadata": {},
   "outputs": [
    {
     "name": "stdout",
     "output_type": "stream",
     "text": [
      "               Регіон  1950  1960  1970  1990  2000  2012  2014  2019\n",
      "0                Крим  23.0  20.6  16.0  13.0   7.3  12.6  11.1   8.0\n",
      "1           Вінницька  22.4  19.2  14.2  12.4   8.4  11.2  10.9   7.6\n",
      "2           Волинська  24.7  25.0  17.9  15.3  11.2  14.8  14.1  10.1\n",
      "3    Дніпропетровська  20.4  20.4  15.1  12.3   7.1  11.2  11.1   7.1\n",
      "4            Донецька  27.1  21.4  14.0  10.9   6.1   9.8   8.2   8.0\n",
      "5         Житомирська  26.1  22.3  15.9  12.9   8.9  12.2  12.0   7.9\n",
      "6        Закарпатська  31.4  27.3  20.7  16.8  11.5  15.1  14.6  10.4\n",
      "7          Запорізька  21.9  19.7  15.0  12.4   7.1  10.6  10.6   6.8\n",
      "8   Івано-Франківська  24.3  24.8  18.2  15.5  10.3  12.4  12.2   8.8\n",
      "9            Київська  20.4  18.9  15.6  12.3   7.3  12.2  12.1   8.0\n",
      "10     Кіровоградська  21.6  17.1  14.5  12.6   7.9  11.0  10.8   6.8\n",
      "11          Луганська  26.2  23.5  14.4  11.6   6.2   9.6   5.1   8.0\n",
      "12          Львівська  23.4  24.0  17.1  14.0   9.1  11.9  11.9   8.7\n",
      "13       Миколаївська  21.1  19.4  15.5  13.7   8.0  11.5  11.2   7.1\n",
      "14            Одеська  24.1  19.2  14.8  12.6   8.0  12.7  12.3   8.8\n",
      "15         Полтавська  18.6  16.3  13.1  11.8   7.0   9.9  10.0   6.5\n",
      "16         Рівненська  26.9  26.7  19.3  15.8  11.8  15.9  14.8  10.7\n",
      "17            Сумська  21.6  18.4  13.2  11.5   7.0   9.7   9.2   6.0\n",
      "18      Тернопільська  21.3  21.6  15.7  14.2   9.2  11.3  10.9   7.6\n",
      "19         Харківська  19.7  17.3  14.0  11.4   6.8   9.9  10.1   6.8\n",
      "20         Херсонська  20.8  21.4  16.6  14.3   8.5  11.7  11.5   8.1\n",
      "21        Хмельницька  23.4  19.8  14.8  12.9   8.5  11.3  11.2   7.9\n",
      "22          Черкаська  20.5  17.9  14.4  12.3   7.5  10.0   9.8   6.4\n",
      "23        Чернівецька  24.7  21.8  17.0  14.8  10.1  12.8  12.9   9.2\n",
      "24       Чернігівська  22.0  18.3  12.7  10.8   6.9   9.4   9.0   6.1\n",
      "25               Київ  23.1  17.4  15.9  12.0   7.3  12.0  12.1  11.0\n",
      "26        Севастополь  23.1  20.8  15.6  12.5   7.0  12.0  11.1   8.0\n"
     ]
    }
   ],
   "source": [
    "birth_table = birth_table.fillna(birth_table.mean(numeric_only=True).round(1))\n",
    "print(birth_table)"
   ]
  },
  {
   "cell_type": "markdown",
   "id": "a2ca8c51",
   "metadata": {},
   "source": [
    "* Отримайте список регіонів, де рівень народжуваності у 2019 році був вищим за середній по Україні"
   ]
  },
  {
   "cell_type": "code",
   "execution_count": 12,
   "id": "f26cb54f",
   "metadata": {},
   "outputs": [
    {
     "name": "stdout",
     "output_type": "stream",
     "text": [
      "Variant 1\n",
      "mean = 8.1\n",
      "['Волинська', 'Закарпатська', 'Івано-Франківська', 'Львівська', 'Одеська', 'Рівненська', 'Чернівецька', 'Київ']\n",
      "\n",
      "Variant 2\n",
      "mean = 8.014814814814814\n",
      "['Волинська', 'Закарпатська', 'Івано-Франківська', 'Львівська', 'Одеська', 'Рівненська', 'Херсонська', 'Чернівецька', 'Київ']\n"
     ]
    }
   ],
   "source": [
    "# variant 1\n",
    "ua_2019_mean = 8.1  # value from original table\n",
    "print(f\"Variant 1\\nmean = {ua_2019_mean}\\n{[region for region in birth_table.loc[birth_table['2019'] > ua_2019_mean]['Регіон']]}\")\n",
    "# variant 2\n",
    "ua_2019_mean = birth_table[\"2019\"].mean()  # mean of Series\n",
    "print(f\"\\nVariant 2\\nmean = {ua_2019_mean}\\n{[region for region in birth_table.loc[birth_table['2019'] > ua_2019_mean]['Регіон']]}\")"
   ]
  },
  {
   "cell_type": "markdown",
   "id": "e6af507c",
   "metadata": {},
   "source": [
    "* У якому регіоні була найвища народжуваність у 2014 році?"
   ]
  },
  {
   "cell_type": "code",
   "execution_count": 13,
   "id": "05b334d7",
   "metadata": {},
   "outputs": [
    {
     "name": "stdout",
     "output_type": "stream",
     "text": [
      "Рівненська\n"
     ]
    }
   ],
   "source": [
    "print(birth_table.iloc[birth_table[\"2014\"].idxmax()][\"Регіон\"])"
   ]
  },
  {
   "cell_type": "markdown",
   "id": "d756db78",
   "metadata": {},
   "source": [
    "* Побудуйте стовпчикову діаграму народжуваності по регіонах у 2019 році"
   ]
  },
  {
   "cell_type": "code",
   "execution_count": 14,
   "id": "dde578d8",
   "metadata": {},
   "outputs": [
    {
     "data": {
      "text/plain": [
       "<Axes: xlabel='Регіон'>"
      ]
     },
     "execution_count": 14,
     "metadata": {},
     "output_type": "execute_result"
    },
    {
     "data": {
      "image/png": "[encoded data removed]",
      "text/plain": [
       "<Figure size 640x480 with 1 Axes>"
      ]
     },
     "metadata": {},
     "output_type": "display_data"
    }
   ],
   "source": [
    "birth_table.plot.bar(x='Регіон', y='2019', color='orange')"
   ]
  }
 ],
 "metadata": {
  "kernelspec": {
   "display_name": "Python 3 (ipykernel)",
   "language": "python",
   "name": "python3"
  },
  "language_info": {
   "codemirror_mode": {
    "name": "ipython",
    "version": 3
   },
   "file_extension": ".py",
   "mimetype": "text/x-python",
   "name": "python",
   "nbconvert_exporter": "python",
   "pygments_lexer": "ipython3",
   "version": "3.10.8"
  }
 },
 "nbformat": 4,
 "nbformat_minor": 5
}

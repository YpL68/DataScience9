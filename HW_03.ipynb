{
 "cells": [
  {
   "cell_type": "code",
   "execution_count": 1,
   "id": "f785d4cd",
   "metadata": {},
   "outputs": [],
   "source": [
    "%matplotlib inline\n",
    "\n",
    "import matplotlib.pyplot as plt\n",
    "import numpy as np\n",
    "import pandas as pd\n",
    "from sklearn.linear_model import LinearRegression as LR\n",
    "from sklearn.metrics import mean_squared_error as mse"
   ]
  },
  {
   "cell_type": "markdown",
   "id": "4ce0792e",
   "metadata": {},
   "source": [
    "* знайдіть найкращі параметри w⃗ для датасету прогнозуючу ціну на будинок залежно від площі, кількості ванних кімнат та кількості спалень;"
   ]
  },
  {
   "cell_type": "code",
   "execution_count": 2,
   "id": "ad6ebdd7",
   "metadata": {},
   "outputs": [
    {
     "data": {
      "text/html": [
       "<div>\n",
       "<style scoped>\n",
       "    .dataframe tbody tr th:only-of-type {\n",
       "        vertical-align: middle;\n",
       "    }\n",
       "\n",
       "    .dataframe tbody tr th {\n",
       "        vertical-align: top;\n",
       "    }\n",
       "\n",
       "    .dataframe thead th {\n",
       "        text-align: right;\n",
       "    }\n",
       "</style>\n",
       "<table border=\"1\" class=\"dataframe\">\n",
       "  <thead>\n",
       "    <tr style=\"text-align: right;\">\n",
       "      <th></th>\n",
       "      <th>price</th>\n",
       "      <th>area</th>\n",
       "      <th>bedrooms</th>\n",
       "      <th>bathrooms</th>\n",
       "      <th>stories</th>\n",
       "      <th>mainroad</th>\n",
       "      <th>guestroom</th>\n",
       "      <th>basement</th>\n",
       "      <th>hotwaterheating</th>\n",
       "      <th>airconditioning</th>\n",
       "      <th>parking</th>\n",
       "      <th>prefarea</th>\n",
       "      <th>furnishingstatus</th>\n",
       "    </tr>\n",
       "  </thead>\n",
       "  <tbody>\n",
       "    <tr>\n",
       "      <th>0</th>\n",
       "      <td>13300000</td>\n",
       "      <td>7420</td>\n",
       "      <td>4</td>\n",
       "      <td>2</td>\n",
       "      <td>3</td>\n",
       "      <td>yes</td>\n",
       "      <td>no</td>\n",
       "      <td>no</td>\n",
       "      <td>no</td>\n",
       "      <td>yes</td>\n",
       "      <td>2</td>\n",
       "      <td>yes</td>\n",
       "      <td>furnished</td>\n",
       "    </tr>\n",
       "    <tr>\n",
       "      <th>1</th>\n",
       "      <td>12250000</td>\n",
       "      <td>8960</td>\n",
       "      <td>4</td>\n",
       "      <td>4</td>\n",
       "      <td>4</td>\n",
       "      <td>yes</td>\n",
       "      <td>no</td>\n",
       "      <td>no</td>\n",
       "      <td>no</td>\n",
       "      <td>yes</td>\n",
       "      <td>3</td>\n",
       "      <td>no</td>\n",
       "      <td>furnished</td>\n",
       "    </tr>\n",
       "    <tr>\n",
       "      <th>2</th>\n",
       "      <td>12250000</td>\n",
       "      <td>9960</td>\n",
       "      <td>3</td>\n",
       "      <td>2</td>\n",
       "      <td>2</td>\n",
       "      <td>yes</td>\n",
       "      <td>no</td>\n",
       "      <td>yes</td>\n",
       "      <td>no</td>\n",
       "      <td>no</td>\n",
       "      <td>2</td>\n",
       "      <td>yes</td>\n",
       "      <td>semi-furnished</td>\n",
       "    </tr>\n",
       "    <tr>\n",
       "      <th>3</th>\n",
       "      <td>12215000</td>\n",
       "      <td>7500</td>\n",
       "      <td>4</td>\n",
       "      <td>2</td>\n",
       "      <td>2</td>\n",
       "      <td>yes</td>\n",
       "      <td>no</td>\n",
       "      <td>yes</td>\n",
       "      <td>no</td>\n",
       "      <td>yes</td>\n",
       "      <td>3</td>\n",
       "      <td>yes</td>\n",
       "      <td>furnished</td>\n",
       "    </tr>\n",
       "    <tr>\n",
       "      <th>4</th>\n",
       "      <td>11410000</td>\n",
       "      <td>7420</td>\n",
       "      <td>4</td>\n",
       "      <td>1</td>\n",
       "      <td>2</td>\n",
       "      <td>yes</td>\n",
       "      <td>yes</td>\n",
       "      <td>yes</td>\n",
       "      <td>no</td>\n",
       "      <td>yes</td>\n",
       "      <td>2</td>\n",
       "      <td>no</td>\n",
       "      <td>furnished</td>\n",
       "    </tr>\n",
       "  </tbody>\n",
       "</table>\n",
       "</div>"
      ],
      "text/plain": [
       "      price  area  bedrooms  bathrooms  stories mainroad guestroom basement  \\\n",
       "0  13300000  7420         4          2        3      yes        no       no   \n",
       "1  12250000  8960         4          4        4      yes        no       no   \n",
       "2  12250000  9960         3          2        2      yes        no      yes   \n",
       "3  12215000  7500         4          2        2      yes        no      yes   \n",
       "4  11410000  7420         4          1        2      yes       yes      yes   \n",
       "\n",
       "  hotwaterheating airconditioning  parking prefarea furnishingstatus  \n",
       "0              no             yes        2      yes        furnished  \n",
       "1              no             yes        3       no        furnished  \n",
       "2              no              no        2      yes   semi-furnished  \n",
       "3              no             yes        3      yes        furnished  \n",
       "4              no             yes        2       no        furnished  "
      ]
     },
     "execution_count": 2,
     "metadata": {},
     "output_type": "execute_result"
    }
   ],
   "source": [
    "file_data = pd.read_csv(\"Housing.csv\")\n",
    "file_data.head()"
   ]
  },
  {
   "cell_type": "code",
   "execution_count": 3,
   "id": "6132c137",
   "metadata": {},
   "outputs": [
    {
     "name": "stdout",
     "output_type": "stream",
     "text": [
      "X.shape: (545, 4)\n",
      "y.shape: (545,)\n"
     ]
    }
   ],
   "source": [
    "X = file_data[[\"area\", \"bedrooms\", \"bathrooms\"]]\n",
    "X.insert(0, \"ones\", 1)\n",
    "X = np.array(X)\n",
    "y = np.array(file_data[\"price\"])\n",
    "print(f\"X.shape: {X.shape}\")\n",
    "print(f\"y.shape: {y.shape}\")"
   ]
  },
  {
   "cell_type": "markdown",
   "id": "02ca4605",
   "metadata": {},
   "source": [
    "##### Аналітичне рішення"
   ]
  },
  {
   "cell_type": "code",
   "execution_count": 4,
   "id": "53d04d88",
   "metadata": {},
   "outputs": [
    {
     "name": "stdout",
     "output_type": "stream",
     "text": [
      "Linear regression coef.: [-1.73171608e+05  3.78762754e+02  4.06820034e+05  1.38604950e+06]\n"
     ]
    }
   ],
   "source": [
    "def analytic_algorithm(X: np.ndarray, y: np.ndarray):\n",
    "    return np.linalg.inv(X.T.dot(X)).dot(X.T).dot(y)\n",
    "\n",
    "analytic_variant = analytic_algorithm(X, y)\n",
    "print(f\"Linear regression coef.: {analytic_variant}\")"
   ]
  },
  {
   "cell_type": "markdown",
   "id": "981bd725",
   "metadata": {},
   "source": [
    "#####  Sklearn рішення"
   ]
  },
  {
   "cell_type": "code",
   "execution_count": 5,
   "id": "36fd91eb",
   "metadata": {},
   "outputs": [
    {
     "name": "stdout",
     "output_type": "stream",
     "text": [
      "Mean squared error: 1791170049977.319\n",
      "Linear regression coef.: [0.00000000e+00 3.78762754e+02 4.06820034e+05 1.38604950e+06]\n",
      "Linear regression intercept.: -173171.6076326333\n"
     ]
    }
   ],
   "source": [
    "linear_regression = LR()\n",
    "linear_regression.fit(X, y)\n",
    "\n",
    "print(f\"Mean squared error: {mse(y, linear_regression.predict(X))}\")\n",
    "print(f\"Linear regression coef.: {linear_regression.coef_}\")\n",
    "print(f\"Linear regression intercept.: {linear_regression.intercept_}\")"
   ]
  },
  {
   "cell_type": "markdown",
   "id": "25f7f357",
   "metadata": {},
   "source": [
    "##### * напишіть функцію гіпотези лінійної регресії у векторному вигляді;\n",
    "##### * створіть функцію для обчислення функції втрат у векторному вигляді;\n",
    "##### * реалізуйте один крок градієнтного спуску;"
   ]
  },
  {
   "cell_type": "code",
   "execution_count": 6,
   "id": "923c9877",
   "metadata": {},
   "outputs": [],
   "source": [
    "def cost(y: np.array, h: np.array) -> float:\n",
    "    return np.mean((h - y) ** 2) / 2\n",
    "\n",
    "\n",
    "class LinearRegression:\n",
    "    def __init__(self, lr: float = 0.001, thr: float = 0.00001, n_epochs: int = 100, w: list = None):\n",
    "        self.lr = lr\n",
    "        self.thr = thr\n",
    "        self.n_epochs = n_epochs\n",
    "        self.w = np.array(w) if w else np.array([])\n",
    "\n",
    "    def predict(self, X: np.ndarray) -> np.ndarray:\n",
    "        return X @ self.w\n",
    "\n",
    "    def update_w(self, X: np.ndarray, y: np.ndarray):  # крок градієнтного спуску\n",
    "        h = self.predict(X)\n",
    "        self.w -= self.lr / len(y) * X.T @ (h - y)\n",
    "\n",
    "    def fit(self, X: np.ndarray, y: np.ndarray):\n",
    "        if len(self.w) != len(X[0]):\n",
    "            self.w = np.array([np.random.uniform(-5, 5)] * len(X[0]))\n",
    "\n",
    "        last_cost = 1e+40\n",
    "        count = 0\n",
    "        for i in range(self.n_epochs):\n",
    "            count += 1\n",
    "            self.update_w(X, y)\n",
    "            new_cost = cost(y, self.predict(X))\n",
    "\n",
    "            cost_delta = last_cost - new_cost\n",
    "            if cost_delta < self.thr:\n",
    "                break\n",
    "            last_cost = new_cost\n",
    "        print(f\"{count}, {self.w}, {last_cost}\")"
   ]
  },
  {
   "cell_type": "markdown",
   "id": "86ca6f52",
   "metadata": {},
   "source": [
    "##### Лінійна регресія без маштабування та нормалізації данних"
   ]
  },
  {
   "cell_type": "code",
   "execution_count": 7,
   "id": "c3eaa879",
   "metadata": {},
   "outputs": [
    {
     "name": "stdout",
     "output_type": "stream",
     "text": [
      "400000, [-1.72994947e+05  3.80453504e+02  4.06018444e+05  1.38001161e+06], 895595491066.5187\n"
     ]
    }
   ],
   "source": [
    "init_w = [-1.73e+05, 3.78e+02, 4.06e+05, 1.38e+06]\n",
    "linear_regression = LinearRegression(lr=0.00000001, n_epochs=400000, thr=0.001, w=init_w)\n",
    "linear_regression.fit(X, y)"
   ]
  },
  {
   "cell_type": "markdown",
   "id": "7662bd8d",
   "metadata": {},
   "source": [
    "##### Лінійна регресія з маштабуванням та нормалізацією данних"
   ]
  },
  {
   "cell_type": "code",
   "execution_count": 8,
   "id": "bbd2f920",
   "metadata": {},
   "outputs": [
    {
     "data": {
      "text/html": [
       "<div>\n",
       "<style scoped>\n",
       "    .dataframe tbody tr th:only-of-type {\n",
       "        vertical-align: middle;\n",
       "    }\n",
       "\n",
       "    .dataframe tbody tr th {\n",
       "        vertical-align: top;\n",
       "    }\n",
       "\n",
       "    .dataframe thead th {\n",
       "        text-align: right;\n",
       "    }\n",
       "</style>\n",
       "<table border=\"1\" class=\"dataframe\">\n",
       "  <thead>\n",
       "    <tr style=\"text-align: right;\">\n",
       "      <th></th>\n",
       "      <th>0</th>\n",
       "    </tr>\n",
       "  </thead>\n",
       "  <tbody>\n",
       "    <tr>\n",
       "      <th>0</th>\n",
       "      <td>0.738811</td>\n",
       "    </tr>\n",
       "    <tr>\n",
       "      <th>1</th>\n",
       "      <td>0.647902</td>\n",
       "    </tr>\n",
       "    <tr>\n",
       "      <th>2</th>\n",
       "      <td>0.647902</td>\n",
       "    </tr>\n",
       "    <tr>\n",
       "      <th>3</th>\n",
       "      <td>0.644872</td>\n",
       "    </tr>\n",
       "    <tr>\n",
       "      <th>4</th>\n",
       "      <td>0.575175</td>\n",
       "    </tr>\n",
       "  </tbody>\n",
       "</table>\n",
       "</div>"
      ],
      "text/plain": [
       "          0\n",
       "0  0.738811\n",
       "1  0.647902\n",
       "2  0.647902\n",
       "3  0.644872\n",
       "4  0.575175"
      ]
     },
     "execution_count": 8,
     "metadata": {},
     "output_type": "execute_result"
    }
   ],
   "source": [
    "y_mean = y.mean()\n",
    "y_range = y.max() - y.min()\n",
    "y_scales = (y - y_mean) / y_range\n",
    "pd.DataFrame(y_scales).head()"
   ]
  },
  {
   "cell_type": "code",
   "execution_count": 9,
   "id": "372bd373",
   "metadata": {},
   "outputs": [
    {
     "data": {
      "text/html": [
       "<div>\n",
       "<style scoped>\n",
       "    .dataframe tbody tr th:only-of-type {\n",
       "        vertical-align: middle;\n",
       "    }\n",
       "\n",
       "    .dataframe tbody tr th {\n",
       "        vertical-align: top;\n",
       "    }\n",
       "\n",
       "    .dataframe thead th {\n",
       "        text-align: right;\n",
       "    }\n",
       "</style>\n",
       "<table border=\"1\" class=\"dataframe\">\n",
       "  <thead>\n",
       "    <tr style=\"text-align: right;\">\n",
       "      <th></th>\n",
       "      <th>0</th>\n",
       "      <th>1</th>\n",
       "      <th>2</th>\n",
       "      <th>3</th>\n",
       "    </tr>\n",
       "  </thead>\n",
       "  <tbody>\n",
       "    <tr>\n",
       "      <th>0</th>\n",
       "      <td>1</td>\n",
       "      <td>7420</td>\n",
       "      <td>4</td>\n",
       "      <td>2</td>\n",
       "    </tr>\n",
       "    <tr>\n",
       "      <th>1</th>\n",
       "      <td>1</td>\n",
       "      <td>8960</td>\n",
       "      <td>4</td>\n",
       "      <td>4</td>\n",
       "    </tr>\n",
       "    <tr>\n",
       "      <th>2</th>\n",
       "      <td>1</td>\n",
       "      <td>9960</td>\n",
       "      <td>3</td>\n",
       "      <td>2</td>\n",
       "    </tr>\n",
       "    <tr>\n",
       "      <th>3</th>\n",
       "      <td>1</td>\n",
       "      <td>7500</td>\n",
       "      <td>4</td>\n",
       "      <td>2</td>\n",
       "    </tr>\n",
       "    <tr>\n",
       "      <th>4</th>\n",
       "      <td>1</td>\n",
       "      <td>7420</td>\n",
       "      <td>4</td>\n",
       "      <td>1</td>\n",
       "    </tr>\n",
       "  </tbody>\n",
       "</table>\n",
       "</div>"
      ],
      "text/plain": [
       "   0     1  2  3\n",
       "0  1  7420  4  2\n",
       "1  1  8960  4  4\n",
       "2  1  9960  3  2\n",
       "3  1  7500  4  2\n",
       "4  1  7420  4  1"
      ]
     },
     "execution_count": 9,
     "metadata": {},
     "output_type": "execute_result"
    }
   ],
   "source": [
    "pd.DataFrame(X).head()"
   ]
  },
  {
   "cell_type": "code",
   "execution_count": 10,
   "id": "6f7f912b",
   "metadata": {},
   "outputs": [
    {
     "name": "stdout",
     "output_type": "stream",
     "text": [
      "x_means: [0.00000000e+00 5.15054128e+03 2.96513761e+00 1.28623853e+00]\n",
      "x_ranges: [    1 14550     5     3]\n"
     ]
    },
    {
     "data": {
      "text/html": [
       "<div>\n",
       "<style scoped>\n",
       "    .dataframe tbody tr th:only-of-type {\n",
       "        vertical-align: middle;\n",
       "    }\n",
       "\n",
       "    .dataframe tbody tr th {\n",
       "        vertical-align: top;\n",
       "    }\n",
       "\n",
       "    .dataframe thead th {\n",
       "        text-align: right;\n",
       "    }\n",
       "</style>\n",
       "<table border=\"1\" class=\"dataframe\">\n",
       "  <thead>\n",
       "    <tr style=\"text-align: right;\">\n",
       "      <th></th>\n",
       "      <th>0</th>\n",
       "      <th>1</th>\n",
       "      <th>2</th>\n",
       "      <th>3</th>\n",
       "    </tr>\n",
       "  </thead>\n",
       "  <tbody>\n",
       "    <tr>\n",
       "      <th>0</th>\n",
       "      <td>1.0</td>\n",
       "      <td>0.155977</td>\n",
       "      <td>0.206972</td>\n",
       "      <td>0.237920</td>\n",
       "    </tr>\n",
       "    <tr>\n",
       "      <th>1</th>\n",
       "      <td>1.0</td>\n",
       "      <td>0.261818</td>\n",
       "      <td>0.206972</td>\n",
       "      <td>0.904587</td>\n",
       "    </tr>\n",
       "    <tr>\n",
       "      <th>2</th>\n",
       "      <td>1.0</td>\n",
       "      <td>0.330547</td>\n",
       "      <td>0.006972</td>\n",
       "      <td>0.237920</td>\n",
       "    </tr>\n",
       "    <tr>\n",
       "      <th>3</th>\n",
       "      <td>1.0</td>\n",
       "      <td>0.161475</td>\n",
       "      <td>0.206972</td>\n",
       "      <td>0.237920</td>\n",
       "    </tr>\n",
       "    <tr>\n",
       "      <th>4</th>\n",
       "      <td>1.0</td>\n",
       "      <td>0.155977</td>\n",
       "      <td>0.206972</td>\n",
       "      <td>-0.095413</td>\n",
       "    </tr>\n",
       "  </tbody>\n",
       "</table>\n",
       "</div>"
      ],
      "text/plain": [
       "     0         1         2         3\n",
       "0  1.0  0.155977  0.206972  0.237920\n",
       "1  1.0  0.261818  0.206972  0.904587\n",
       "2  1.0  0.330547  0.006972  0.237920\n",
       "3  1.0  0.161475  0.206972  0.237920\n",
       "4  1.0  0.155977  0.206972 -0.095413"
      ]
     },
     "execution_count": 10,
     "metadata": {},
     "output_type": "execute_result"
    }
   ],
   "source": [
    "x_means = X[:, 1:].mean(axis=0)\n",
    "x_means = np.insert(x_means, 0, 0)\n",
    "print(f\"x_means: {x_means}\")\n",
    "\n",
    "x_ranges = X[:, 1:].max(axis=0) - X[:, 1:].min(axis=0)\n",
    "x_ranges = np.insert(x_ranges, 0, 1)\n",
    "print(f\"x_ranges: {x_ranges}\")\n",
    "\n",
    "X_scales = (X - x_means) / x_ranges\n",
    "pd.DataFrame(X_scales).head()"
   ]
  },
  {
   "cell_type": "code",
   "execution_count": 11,
   "id": "0458db54",
   "metadata": {},
   "outputs": [
    {
     "name": "stdout",
     "output_type": "stream",
     "text": [
      "400000, [-1.72309382e+05  3.45872450e+02  4.05913743e+05  1.37983045e+06], 48464679554.692696\n"
     ]
    }
   ],
   "source": [
    "init_w = [-1.73e+05, 3.78e+02, 4.06e+05, 1.38e+06]\n",
    "linear_regression = LinearRegression(lr=0.00000001, n_epochs=400000, thr=0.001, w=init_w)\n",
    "linear_regression.fit(X_scales, y_scales)"
   ]
  },
  {
   "cell_type": "markdown",
   "id": "32684df6",
   "metadata": {},
   "source": [
    "### Порівняння результатів"
   ]
  },
  {
   "cell_type": "code",
   "execution_count": 12,
   "id": "09e69587",
   "metadata": {},
   "outputs": [],
   "source": [
    "# Аналітичне рішення\n",
    "[-1.73171608e+05  3.78762754e+02  4.06820034e+05  1.38604950e+06]\n",
    "# Sklearn рішення\n",
    "[-1.73171608e+05  3.78762754e+02  4.06820034e+05  1.38604950e+06]\n",
    "# Лінійна регресія без маштабування та нормалізації данних 400000 циклів \n",
    "[-1.72994947e+05  3.80453504e+02  4.06018444e+05  1.38001161e+06], 895595491066.5187\n",
    "# Лінійна регресія з маштабуванням та нормалізацією данних 400000 циклів \n",
    "[-1.72309382e+05  3.45872450e+02  4.05913743e+05  1.37983045e+06]\n"
   ]
  },
  {
   "cell_type": "markdown",
   "id": "2f95f671",
   "metadata": {},
   "source": [
    "### Висновок"
   ]
  },
  {
   "cell_type": "markdown",
   "id": "d9fb15e5",
   "metadata": {},
   "source": [
    "Рузультати аналітичного рішення та sklearn рішення повністю співпадають по значенням коєфіцієнтів та приблизно мають однакову швидкість виконання (заміряти швидкість не вистачило часу). Таке враження, що sclearn використав для розрахунку аналітичне рішення). Був неприємно вражений різницею результатів прикладу з лекції та прикладу з ДЗ при розрахунку за допомогою лінійної регресії. З ростом набору данних та особливо кількості ознак різко зростає кількість ітерацій для знаходження мінімуму функції втрат. Навіть використання масштабування не приносить особливого виграшу окрім швидкості розрахунку. Можливо на більших обчислювальних потужностях все не так сумно. Але бібліотека Sklearn дає шанс моєму ноутбуку, якщо не використовує аналітичне рішення). Забув вказати, що не зовсім є зрозумілим вибір початкових коефіцієнтів, якщо не орієнтуватися на аналітичне рішення та  Sklearn."
   ]
  }
 ],
 "metadata": {
  "kernelspec": {
   "display_name": "Python 3 (ipykernel)",
   "language": "python",
   "name": "python3"
  },
  "language_info": {
   "codemirror_mode": {
    "name": "ipython",
    "version": 3
   },
   "file_extension": ".py",
   "mimetype": "text/x-python",
   "name": "python",
   "nbconvert_exporter": "python",
   "pygments_lexer": "ipython3",
   "version": "3.10.8"
  }
 },
 "nbformat": 4,
 "nbformat_minor": 5
}
